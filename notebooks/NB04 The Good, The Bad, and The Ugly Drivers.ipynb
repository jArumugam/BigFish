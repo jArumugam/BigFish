{
 "cells": [
  {
   "cell_type": "markdown",
   "metadata": {},
   "source": [
    "# Good drivers are at the right place at the right time\n",
    "\n",
    "### 1. Describe good drivers\n",
    "### 2. Describe right place at the right time \n",
    "### 3. Where this is work headed "
   ]
  },
  {
   "cell_type": "markdown",
   "metadata": {},
   "source": [
    "## Data: NYC Taxi Data from Taxi and Limousines commision \n",
    "- 2013 Data, ~ 2 Gb, fits in RAM\n",
    "- approximately 14 million rows "
   ]
  },
  {
   "cell_type": "markdown",
   "metadata": {},
   "source": [
    "## 1. Describe \"good drivers\"\n",
    "### Find drivers who make more dollars per hour "
   ]
  },
  {
   "cell_type": "code",
   "execution_count": 1,
   "metadata": {
    "collapsed": true
   },
   "outputs": [],
   "source": [
    "import pandas as pd\n",
    "import numpy as np\n",
    "\n",
    "import matplotlib.pyplot as plt\n",
    "%matplotlib inline\n",
    "import seaborn as sns\n",
    "\n",
    "plt.rcParams[\"figure.figsize\"] = (10,10)"
   ]
  },
  {
   "cell_type": "code",
   "execution_count": 2,
   "metadata": {
    "collapsed": true
   },
   "outputs": [],
   "source": [
    "import random\n",
    "import matplotlib.patches as mpatches"
   ]
  },
  {
   "cell_type": "code",
   "execution_count": 3,
   "metadata": {
    "collapsed": true
   },
   "outputs": [],
   "source": [
    "from IPython.display import Image, HTML"
   ]
  },
  {
   "cell_type": "markdown",
   "metadata": {},
   "source": [
    "### Merge data"
   ]
  },
  {
   "cell_type": "code",
   "execution_count": 2,
   "metadata": {
    "collapsed": true
   },
   "outputs": [],
   "source": [
    "fares_data_file = '../../trip_fare/trip_fare_2.csv'\n",
    "trips_data_file = '../../trip_data/trip_data_2.csv'"
   ]
  },
  {
   "cell_type": "code",
   "execution_count": 3,
   "metadata": {
    "collapsed": false
   },
   "outputs": [
    {
     "name": "stdout",
     "output_type": "stream",
     "text": [
      "['medallion', 'hack_license', 'pickup_datetime', 'payment_type', 'fare_amount', 'tip_amount', 'total_amount']\n"
     ]
    },
    {
     "data": {
      "text/html": [
       "<div>\n",
       "<table border=\"1\" class=\"dataframe\">\n",
       "  <thead>\n",
       "    <tr style=\"text-align: right;\">\n",
       "      <th></th>\n",
       "      <th>medallion</th>\n",
       "      <th>hack_license</th>\n",
       "      <th>pickup_datetime</th>\n",
       "      <th>payment_type</th>\n",
       "      <th>fare_amount</th>\n",
       "      <th>tip_amount</th>\n",
       "      <th>total_amount</th>\n",
       "    </tr>\n",
       "  </thead>\n",
       "  <tbody>\n",
       "    <tr>\n",
       "      <th>0</th>\n",
       "      <td>1B5C0970</td>\n",
       "      <td>D9613323</td>\n",
       "      <td>2013-02-08 23:35:14</td>\n",
       "      <td>CRD</td>\n",
       "      <td>6.0</td>\n",
       "      <td>0.0</td>\n",
       "      <td>7.0</td>\n",
       "    </tr>\n",
       "    <tr>\n",
       "      <th>1</th>\n",
       "      <td>B42249AE</td>\n",
       "      <td>D4BB308D</td>\n",
       "      <td>2013-02-07 12:20:16</td>\n",
       "      <td>CRD</td>\n",
       "      <td>20.0</td>\n",
       "      <td>3.0</td>\n",
       "      <td>23.5</td>\n",
       "    </tr>\n",
       "    <tr>\n",
       "      <th>2</th>\n",
       "      <td>89069922</td>\n",
       "      <td>6318C3AE</td>\n",
       "      <td>2013-02-08 08:56:54</td>\n",
       "      <td>CRD</td>\n",
       "      <td>5.0</td>\n",
       "      <td>1.1</td>\n",
       "      <td>6.6</td>\n",
       "    </tr>\n",
       "    <tr>\n",
       "      <th>3</th>\n",
       "      <td>74B7D835</td>\n",
       "      <td>D5E278C9</td>\n",
       "      <td>2013-02-08 09:37:02</td>\n",
       "      <td>CRD</td>\n",
       "      <td>11.0</td>\n",
       "      <td>2.3</td>\n",
       "      <td>13.8</td>\n",
       "    </tr>\n",
       "    <tr>\n",
       "      <th>4</th>\n",
       "      <td>4003B847</td>\n",
       "      <td>0B766F10</td>\n",
       "      <td>2013-02-08 19:31:25</td>\n",
       "      <td>CRD</td>\n",
       "      <td>13.0</td>\n",
       "      <td>1.5</td>\n",
       "      <td>16.0</td>\n",
       "    </tr>\n",
       "  </tbody>\n",
       "</table>\n",
       "</div>"
      ],
      "text/plain": [
       "  medallion hack_license      pickup_datetime payment_type  fare_amount  \\\n",
       "0  1B5C0970     D9613323  2013-02-08 23:35:14          CRD          6.0   \n",
       "1  B42249AE     D4BB308D  2013-02-07 12:20:16          CRD         20.0   \n",
       "2  89069922     6318C3AE  2013-02-08 08:56:54          CRD          5.0   \n",
       "3  74B7D835     D5E278C9  2013-02-08 09:37:02          CRD         11.0   \n",
       "4  4003B847     0B766F10  2013-02-08 19:31:25          CRD         13.0   \n",
       "\n",
       "   tip_amount  total_amount  \n",
       "0         0.0           7.0  \n",
       "1         3.0          23.5  \n",
       "2         1.1           6.6  \n",
       "3         2.3          13.8  \n",
       "4         1.5          16.0  "
      ]
     },
     "execution_count": 3,
     "metadata": {},
     "output_type": "execute_result"
    }
   ],
   "source": [
    "fares_pd = pd.read_csv(fares_data_file, usecols=[0, 1, 3, 4, 5, 8, 10])\n",
    "fares_old_columns = fares_pd.columns\n",
    "fares_pd_columns = [header.strip() for header in fares_old_columns]\n",
    "fares_pd.columns = fares_pd_columns\n",
    "\n",
    "print fares_pd_columns\n",
    "#fares_pd.describe()\n",
    "#fares_pd.head()\n",
    "\n",
    "fares_short_pd = fares_pd\n",
    "fares_short_pd['medallion'] = fares_pd['medallion'].apply(lambda x: x[:8])\n",
    "fares_short_pd['hack_license'] = fares_pd['hack_license'].apply(lambda x: x[:8])\n",
    "del fares_pd\n",
    "\n",
    "fares_short_pd.head()"
   ]
  },
  {
   "cell_type": "code",
   "execution_count": 4,
   "metadata": {
    "collapsed": true
   },
   "outputs": [],
   "source": [
    "fares_short_pd.to_csv('../data/trip_fare_short_2.csv')\n",
    "del fares_short_pd"
   ]
  },
  {
   "cell_type": "code",
   "execution_count": 5,
   "metadata": {
    "collapsed": false
   },
   "outputs": [
    {
     "name": "stdout",
     "output_type": "stream",
     "text": [
      "['hack_license', 'pickup_datetime', 'dropoff_datetime', 'passenger_count', 'trip_time_in_secs', 'trip_distance', 'pickup_longitude', 'pickup_latitude', 'dropoff_longitude', 'dropoff_latitude']\n"
     ]
    },
    {
     "data": {
      "text/html": [
       "<div>\n",
       "<table border=\"1\" class=\"dataframe\">\n",
       "  <thead>\n",
       "    <tr style=\"text-align: right;\">\n",
       "      <th></th>\n",
       "      <th>hack_license</th>\n",
       "      <th>pickup_datetime</th>\n",
       "      <th>dropoff_datetime</th>\n",
       "      <th>passenger_count</th>\n",
       "      <th>trip_time_in_secs</th>\n",
       "      <th>trip_distance</th>\n",
       "      <th>pickup_longitude</th>\n",
       "      <th>pickup_latitude</th>\n",
       "      <th>dropoff_longitude</th>\n",
       "      <th>dropoff_latitude</th>\n",
       "    </tr>\n",
       "  </thead>\n",
       "  <tbody>\n",
       "    <tr>\n",
       "      <th>0</th>\n",
       "      <td>D9613323</td>\n",
       "      <td>2013-02-08 23:35:14</td>\n",
       "      <td>2013-02-08 23:42:58</td>\n",
       "      <td>1</td>\n",
       "      <td>463</td>\n",
       "      <td>0.8</td>\n",
       "      <td>-73.992439</td>\n",
       "      <td>40.724487</td>\n",
       "      <td>-73.984421</td>\n",
       "      <td>40.718903</td>\n",
       "    </tr>\n",
       "    <tr>\n",
       "      <th>1</th>\n",
       "      <td>D4BB308D</td>\n",
       "      <td>2013-02-07 12:20:16</td>\n",
       "      <td>2013-02-07 12:50:27</td>\n",
       "      <td>4</td>\n",
       "      <td>1810</td>\n",
       "      <td>3.1</td>\n",
       "      <td>-73.989494</td>\n",
       "      <td>40.769588</td>\n",
       "      <td>-73.990303</td>\n",
       "      <td>40.737347</td>\n",
       "    </tr>\n",
       "    <tr>\n",
       "      <th>2</th>\n",
       "      <td>6318C3AE</td>\n",
       "      <td>2013-02-08 08:56:54</td>\n",
       "      <td>2013-02-08 08:59:43</td>\n",
       "      <td>1</td>\n",
       "      <td>168</td>\n",
       "      <td>1.0</td>\n",
       "      <td>-73.963036</td>\n",
       "      <td>40.799141</td>\n",
       "      <td>-73.972168</td>\n",
       "      <td>40.786446</td>\n",
       "    </tr>\n",
       "    <tr>\n",
       "      <th>3</th>\n",
       "      <td>D5E278C9</td>\n",
       "      <td>2013-02-08 09:37:02</td>\n",
       "      <td>2013-02-08 09:50:50</td>\n",
       "      <td>1</td>\n",
       "      <td>828</td>\n",
       "      <td>2.1</td>\n",
       "      <td>-73.987953</td>\n",
       "      <td>40.728764</td>\n",
       "      <td>-74.007118</td>\n",
       "      <td>40.705399</td>\n",
       "    </tr>\n",
       "    <tr>\n",
       "      <th>4</th>\n",
       "      <td>0B766F10</td>\n",
       "      <td>2013-02-08 19:31:25</td>\n",
       "      <td>2013-02-08 19:46:23</td>\n",
       "      <td>1</td>\n",
       "      <td>897</td>\n",
       "      <td>3.3</td>\n",
       "      <td>-73.987282</td>\n",
       "      <td>40.743042</td>\n",
       "      <td>-74.010284</td>\n",
       "      <td>40.703964</td>\n",
       "    </tr>\n",
       "  </tbody>\n",
       "</table>\n",
       "</div>"
      ],
      "text/plain": [
       "  hack_license      pickup_datetime     dropoff_datetime  passenger_count  \\\n",
       "0     D9613323  2013-02-08 23:35:14  2013-02-08 23:42:58                1   \n",
       "1     D4BB308D  2013-02-07 12:20:16  2013-02-07 12:50:27                4   \n",
       "2     6318C3AE  2013-02-08 08:56:54  2013-02-08 08:59:43                1   \n",
       "3     D5E278C9  2013-02-08 09:37:02  2013-02-08 09:50:50                1   \n",
       "4     0B766F10  2013-02-08 19:31:25  2013-02-08 19:46:23                1   \n",
       "\n",
       "   trip_time_in_secs  trip_distance  pickup_longitude  pickup_latitude  \\\n",
       "0                463            0.8        -73.992439        40.724487   \n",
       "1               1810            3.1        -73.989494        40.769588   \n",
       "2                168            1.0        -73.963036        40.799141   \n",
       "3                828            2.1        -73.987953        40.728764   \n",
       "4                897            3.3        -73.987282        40.743042   \n",
       "\n",
       "   dropoff_longitude  dropoff_latitude  \n",
       "0         -73.984421         40.718903  \n",
       "1         -73.990303         40.737347  \n",
       "2         -73.972168         40.786446  \n",
       "3         -74.007118         40.705399  \n",
       "4         -74.010284         40.703964  "
      ]
     },
     "execution_count": 5,
     "metadata": {},
     "output_type": "execute_result"
    }
   ],
   "source": [
    "trips_pd = pd.read_csv(trips_data_file, usecols=[1]+range(5, 14))\n",
    "trips_old_columns = trips_pd.columns\n",
    "trips_pd_columns = [header.strip() for header in trips_old_columns]\n",
    "trips_pd.columns = trips_pd_columns\n",
    "\n",
    "print trips_pd_columns\n",
    "\n",
    "trips_short_pd = trips_pd\n",
    "trips_short_pd['hack_license'] = trips_pd['hack_license'].apply(lambda x: x[:8])\n",
    "del trips_pd\n",
    "\n",
    "trips_short_pd.head()"
   ]
  },
  {
   "cell_type": "code",
   "execution_count": 6,
   "metadata": {
    "collapsed": true
   },
   "outputs": [],
   "source": [
    "trips_short_pd.to_csv('../data/trip_data_short_2.csv')\n",
    "del trips_short_pd"
   ]
  },
  {
   "cell_type": "code",
   "execution_count": null,
   "metadata": {
    "collapsed": true
   },
   "outputs": [],
   "source": []
  },
  {
   "cell_type": "code",
   "execution_count": 7,
   "metadata": {
    "collapsed": false
   },
   "outputs": [
    {
     "data": {
      "text/html": [
       "<div>\n",
       "<table border=\"1\" class=\"dataframe\">\n",
       "  <thead>\n",
       "    <tr style=\"text-align: right;\">\n",
       "      <th></th>\n",
       "      <th>Unnamed: 0</th>\n",
       "      <th>medallion</th>\n",
       "      <th>hack_license</th>\n",
       "      <th>pickup_datetime</th>\n",
       "      <th>payment_type</th>\n",
       "      <th>fare_amount</th>\n",
       "      <th>tip_amount</th>\n",
       "      <th>total_amount</th>\n",
       "      <th>dropoff_datetime</th>\n",
       "      <th>passenger_count</th>\n",
       "      <th>trip_time_in_secs</th>\n",
       "      <th>trip_distance</th>\n",
       "      <th>pickup_longitude</th>\n",
       "      <th>pickup_latitude</th>\n",
       "      <th>dropoff_longitude</th>\n",
       "      <th>dropoff_latitude</th>\n",
       "    </tr>\n",
       "  </thead>\n",
       "  <tbody>\n",
       "    <tr>\n",
       "      <th>0</th>\n",
       "      <td>0</td>\n",
       "      <td>1B5C0970</td>\n",
       "      <td>D9613323</td>\n",
       "      <td>2013-02-08 23:35:14</td>\n",
       "      <td>CRD</td>\n",
       "      <td>6.0</td>\n",
       "      <td>0.0</td>\n",
       "      <td>7.0</td>\n",
       "      <td>2013-02-08 23:42:58</td>\n",
       "      <td>1</td>\n",
       "      <td>463</td>\n",
       "      <td>0.8</td>\n",
       "      <td>-73.992439</td>\n",
       "      <td>40.724487</td>\n",
       "      <td>-73.984421</td>\n",
       "      <td>40.718903</td>\n",
       "    </tr>\n",
       "    <tr>\n",
       "      <th>1</th>\n",
       "      <td>1</td>\n",
       "      <td>B42249AE</td>\n",
       "      <td>D4BB308D</td>\n",
       "      <td>2013-02-07 12:20:16</td>\n",
       "      <td>CRD</td>\n",
       "      <td>20.0</td>\n",
       "      <td>3.0</td>\n",
       "      <td>23.5</td>\n",
       "      <td>2013-02-07 12:50:27</td>\n",
       "      <td>4</td>\n",
       "      <td>1810</td>\n",
       "      <td>3.1</td>\n",
       "      <td>-73.989494</td>\n",
       "      <td>40.769588</td>\n",
       "      <td>-73.990303</td>\n",
       "      <td>40.737347</td>\n",
       "    </tr>\n",
       "    <tr>\n",
       "      <th>2</th>\n",
       "      <td>2</td>\n",
       "      <td>89069922</td>\n",
       "      <td>6318C3AE</td>\n",
       "      <td>2013-02-08 08:56:54</td>\n",
       "      <td>CRD</td>\n",
       "      <td>5.0</td>\n",
       "      <td>1.1</td>\n",
       "      <td>6.6</td>\n",
       "      <td>2013-02-08 08:59:43</td>\n",
       "      <td>1</td>\n",
       "      <td>168</td>\n",
       "      <td>1.0</td>\n",
       "      <td>-73.963036</td>\n",
       "      <td>40.799141</td>\n",
       "      <td>-73.972168</td>\n",
       "      <td>40.786446</td>\n",
       "    </tr>\n",
       "    <tr>\n",
       "      <th>3</th>\n",
       "      <td>3</td>\n",
       "      <td>74B7D835</td>\n",
       "      <td>D5E278C9</td>\n",
       "      <td>2013-02-08 09:37:02</td>\n",
       "      <td>CRD</td>\n",
       "      <td>11.0</td>\n",
       "      <td>2.3</td>\n",
       "      <td>13.8</td>\n",
       "      <td>2013-02-08 09:50:50</td>\n",
       "      <td>1</td>\n",
       "      <td>828</td>\n",
       "      <td>2.1</td>\n",
       "      <td>-73.987953</td>\n",
       "      <td>40.728764</td>\n",
       "      <td>-74.007118</td>\n",
       "      <td>40.705399</td>\n",
       "    </tr>\n",
       "    <tr>\n",
       "      <th>4</th>\n",
       "      <td>4</td>\n",
       "      <td>4003B847</td>\n",
       "      <td>0B766F10</td>\n",
       "      <td>2013-02-08 19:31:25</td>\n",
       "      <td>CRD</td>\n",
       "      <td>13.0</td>\n",
       "      <td>1.5</td>\n",
       "      <td>16.0</td>\n",
       "      <td>2013-02-08 19:46:23</td>\n",
       "      <td>1</td>\n",
       "      <td>897</td>\n",
       "      <td>3.3</td>\n",
       "      <td>-73.987282</td>\n",
       "      <td>40.743042</td>\n",
       "      <td>-74.010284</td>\n",
       "      <td>40.703964</td>\n",
       "    </tr>\n",
       "  </tbody>\n",
       "</table>\n",
       "</div>"
      ],
      "text/plain": [
       "   Unnamed: 0 medallion hack_license      pickup_datetime payment_type  \\\n",
       "0           0  1B5C0970     D9613323  2013-02-08 23:35:14          CRD   \n",
       "1           1  B42249AE     D4BB308D  2013-02-07 12:20:16          CRD   \n",
       "2           2  89069922     6318C3AE  2013-02-08 08:56:54          CRD   \n",
       "3           3  74B7D835     D5E278C9  2013-02-08 09:37:02          CRD   \n",
       "4           4  4003B847     0B766F10  2013-02-08 19:31:25          CRD   \n",
       "\n",
       "   fare_amount  tip_amount  total_amount     dropoff_datetime  \\\n",
       "0          6.0         0.0           7.0  2013-02-08 23:42:58   \n",
       "1         20.0         3.0          23.5  2013-02-07 12:50:27   \n",
       "2          5.0         1.1           6.6  2013-02-08 08:59:43   \n",
       "3         11.0         2.3          13.8  2013-02-08 09:50:50   \n",
       "4         13.0         1.5          16.0  2013-02-08 19:46:23   \n",
       "\n",
       "   passenger_count  trip_time_in_secs  trip_distance  pickup_longitude  \\\n",
       "0                1                463            0.8        -73.992439   \n",
       "1                4               1810            3.1        -73.989494   \n",
       "2                1                168            1.0        -73.963036   \n",
       "3                1                828            2.1        -73.987953   \n",
       "4                1                897            3.3        -73.987282   \n",
       "\n",
       "   pickup_latitude  dropoff_longitude  dropoff_latitude  \n",
       "0        40.724487         -73.984421         40.718903  \n",
       "1        40.769588         -73.990303         40.737347  \n",
       "2        40.799141         -73.972168         40.786446  \n",
       "3        40.728764         -74.007118         40.705399  \n",
       "4        40.743042         -74.010284         40.703964  "
      ]
     },
     "execution_count": 7,
     "metadata": {},
     "output_type": "execute_result"
    }
   ],
   "source": [
    "fares_data_file = '../data/trip_fare_short_2.csv'\n",
    "trips_data_file = '../data/trip_data_short_2.csv'\n",
    "\n",
    "fares_pd = pd.read_csv(fares_data_file)\n",
    "trips_pd = pd.read_csv(trips_data_file)\n",
    "\n",
    "taxi_pd = pd.merge(fares_pd, trips_pd, how='outer')\n",
    "del fares_pd, trips_pd\n",
    "\n",
    "taxi_pd.head()"
   ]
  },
  {
   "cell_type": "code",
   "execution_count": 8,
   "metadata": {
    "collapsed": true
   },
   "outputs": [],
   "source": [
    "taxi_pd.to_csv('../data/taxi_short_2.csv')\n",
    "del taxi_pd"
   ]
  },
  {
   "cell_type": "code",
   "execution_count": null,
   "metadata": {
    "collapsed": true
   },
   "outputs": [],
   "source": []
  },
  {
   "cell_type": "markdown",
   "metadata": {},
   "source": [
    "### Cleanup data"
   ]
  },
  {
   "cell_type": "code",
   "execution_count": 5,
   "metadata": {
    "collapsed": false
   },
   "outputs": [],
   "source": [
    "taxi_full_pd = pd.read_csv('../data/taxi_short_2.csv')\n",
    "#taxi_pd.describe()"
   ]
  },
  {
   "cell_type": "code",
   "execution_count": 6,
   "metadata": {
    "collapsed": false
   },
   "outputs": [
    {
     "data": {
      "text/plain": [
       "count    1.399018e+07\n",
       "mean     9.916805e+00\n",
       "std      1.358179e+01\n",
       "min      0.000000e+00\n",
       "25%      0.000000e+00\n",
       "50%      8.695652e+00\n",
       "75%      1.944444e+01\n",
       "max      5.333333e+03\n",
       "Name: tip_frac, dtype: float64"
      ]
     },
     "execution_count": 6,
     "metadata": {},
     "output_type": "execute_result"
    }
   ],
   "source": [
    "taxi_full_pd['tip_frac'] = (100.*taxi_full_pd.tip_amount \\\n",
    "                       /(taxi_full_pd.total_amount - taxi_full_pd.tip_amount))\n",
    "taxi_full_pd['tip_frac'].describe()"
   ]
  },
  {
   "cell_type": "code",
   "execution_count": 7,
   "metadata": {
    "collapsed": true
   },
   "outputs": [],
   "source": [
    "#NYW Lat and Longitude\n",
    "center_lat = 40.76\n",
    "center_lng = -73.925\n",
    "dlat = 0.1\n",
    "dlng = 0.1\n",
    "min_lat = center_lat - dlat\n",
    "max_lat = center_lat + dlat\n",
    "min_lng = center_lng - dlng\n",
    "max_lng = center_lng + dlng"
   ]
  },
  {
   "cell_type": "code",
   "execution_count": 9,
   "metadata": {
    "collapsed": true
   },
   "outputs": [],
   "source": [
    "taxi_pd = pd.DataFrame(taxi_full_pd[(taxi_full_pd.trip_distance <= 50) & \n",
    "                                    (taxi_full_pd.trip_distance > 0.1) &\n",
    "                                    (taxi_full_pd.trip_time_in_secs > 1) &\n",
    "                                    (taxi_full_pd.fare_amount < 50) &\n",
    "                                    (taxi_full_pd.fare_amount*2 % 1 == 0) &\n",
    "                                    (taxi_full_pd.tip_frac >= 0.1) &\n",
    "                                    (taxi_full_pd.tip_frac < 50) & \n",
    "                                    (taxi_full_pd.pickup_latitude > center_lat - dlat) &\n",
    "                                    (taxi_full_pd.pickup_latitude < center_lat + dlat) &\n",
    "                                    (taxi_full_pd.pickup_longitude > center_lng - dlng) &\n",
    "                                    (taxi_full_pd.pickup_longitude < center_lng + dlng)])\n",
    "\n",
    "del taxi_full_pd"
   ]
  },
  {
   "cell_type": "code",
   "execution_count": 10,
   "metadata": {
    "collapsed": false
   },
   "outputs": [
    {
     "data": {
      "text/plain": [
       "Index([u'Unnamed: 0', u'Unnamed: 0.1', u'medallion', u'hack_license',\n",
       "       u'pickup_datetime', u'payment_type', u'fare_amount', u'tip_amount',\n",
       "       u'total_amount', u'dropoff_datetime', u'passenger_count',\n",
       "       u'trip_time_in_secs', u'trip_distance', u'pickup_longitude',\n",
       "       u'pickup_latitude', u'dropoff_longitude', u'dropoff_latitude',\n",
       "       u'tip_frac'],\n",
       "      dtype='object')"
      ]
     },
     "execution_count": 10,
     "metadata": {},
     "output_type": "execute_result"
    }
   ],
   "source": [
    "taxi_pd.columns"
   ]
  },
  {
   "cell_type": "code",
   "execution_count": 11,
   "metadata": {
    "collapsed": false
   },
   "outputs": [
    {
     "data": {
      "text/html": [
       "<div>\n",
       "<table border=\"1\" class=\"dataframe\">\n",
       "  <thead>\n",
       "    <tr style=\"text-align: right;\">\n",
       "      <th></th>\n",
       "      <th>medallion</th>\n",
       "      <th>hack_license</th>\n",
       "      <th>pickup_datetime</th>\n",
       "      <th>payment_type</th>\n",
       "      <th>fare_amount</th>\n",
       "      <th>tip_amount</th>\n",
       "      <th>total_amount</th>\n",
       "      <th>dropoff_datetime</th>\n",
       "      <th>passenger_count</th>\n",
       "      <th>trip_time_in_secs</th>\n",
       "      <th>trip_distance</th>\n",
       "      <th>pickup_longitude</th>\n",
       "      <th>pickup_latitude</th>\n",
       "      <th>dropoff_longitude</th>\n",
       "      <th>dropoff_latitude</th>\n",
       "      <th>tip_frac</th>\n",
       "    </tr>\n",
       "  </thead>\n",
       "  <tbody>\n",
       "    <tr>\n",
       "      <th>1</th>\n",
       "      <td>B42249AE</td>\n",
       "      <td>D4BB308D</td>\n",
       "      <td>2013-02-07 12:20:16</td>\n",
       "      <td>CRD</td>\n",
       "      <td>20.0</td>\n",
       "      <td>3.0</td>\n",
       "      <td>23.5</td>\n",
       "      <td>2013-02-07 12:50:27</td>\n",
       "      <td>4</td>\n",
       "      <td>1810</td>\n",
       "      <td>3.1</td>\n",
       "      <td>-73.989494</td>\n",
       "      <td>40.769588</td>\n",
       "      <td>-73.990303</td>\n",
       "      <td>40.737347</td>\n",
       "      <td>14.634146</td>\n",
       "    </tr>\n",
       "    <tr>\n",
       "      <th>2</th>\n",
       "      <td>89069922</td>\n",
       "      <td>6318C3AE</td>\n",
       "      <td>2013-02-08 08:56:54</td>\n",
       "      <td>CRD</td>\n",
       "      <td>5.0</td>\n",
       "      <td>1.1</td>\n",
       "      <td>6.6</td>\n",
       "      <td>2013-02-08 08:59:43</td>\n",
       "      <td>1</td>\n",
       "      <td>168</td>\n",
       "      <td>1.0</td>\n",
       "      <td>-73.963036</td>\n",
       "      <td>40.799141</td>\n",
       "      <td>-73.972168</td>\n",
       "      <td>40.786446</td>\n",
       "      <td>20.000000</td>\n",
       "    </tr>\n",
       "    <tr>\n",
       "      <th>3</th>\n",
       "      <td>74B7D835</td>\n",
       "      <td>D5E278C9</td>\n",
       "      <td>2013-02-08 09:37:02</td>\n",
       "      <td>CRD</td>\n",
       "      <td>11.0</td>\n",
       "      <td>2.3</td>\n",
       "      <td>13.8</td>\n",
       "      <td>2013-02-08 09:50:50</td>\n",
       "      <td>1</td>\n",
       "      <td>828</td>\n",
       "      <td>2.1</td>\n",
       "      <td>-73.987953</td>\n",
       "      <td>40.728764</td>\n",
       "      <td>-74.007118</td>\n",
       "      <td>40.705399</td>\n",
       "      <td>20.000000</td>\n",
       "    </tr>\n",
       "    <tr>\n",
       "      <th>4</th>\n",
       "      <td>4003B847</td>\n",
       "      <td>0B766F10</td>\n",
       "      <td>2013-02-08 19:31:25</td>\n",
       "      <td>CRD</td>\n",
       "      <td>13.0</td>\n",
       "      <td>1.5</td>\n",
       "      <td>16.0</td>\n",
       "      <td>2013-02-08 19:46:23</td>\n",
       "      <td>1</td>\n",
       "      <td>897</td>\n",
       "      <td>3.3</td>\n",
       "      <td>-73.987282</td>\n",
       "      <td>40.743042</td>\n",
       "      <td>-74.010284</td>\n",
       "      <td>40.703964</td>\n",
       "      <td>10.344828</td>\n",
       "    </tr>\n",
       "    <tr>\n",
       "      <th>5</th>\n",
       "      <td>D72DF7B1</td>\n",
       "      <td>AFD828EE</td>\n",
       "      <td>2013-02-08 23:10:01</td>\n",
       "      <td>CRD</td>\n",
       "      <td>26.5</td>\n",
       "      <td>5.5</td>\n",
       "      <td>33.0</td>\n",
       "      <td>2013-02-08 23:46:15</td>\n",
       "      <td>4</td>\n",
       "      <td>2173</td>\n",
       "      <td>7.6</td>\n",
       "      <td>-73.993004</td>\n",
       "      <td>40.720154</td>\n",
       "      <td>-73.959747</td>\n",
       "      <td>40.808540</td>\n",
       "      <td>20.000000</td>\n",
       "    </tr>\n",
       "  </tbody>\n",
       "</table>\n",
       "</div>"
      ],
      "text/plain": [
       "  medallion hack_license      pickup_datetime payment_type  fare_amount  \\\n",
       "1  B42249AE     D4BB308D  2013-02-07 12:20:16          CRD         20.0   \n",
       "2  89069922     6318C3AE  2013-02-08 08:56:54          CRD          5.0   \n",
       "3  74B7D835     D5E278C9  2013-02-08 09:37:02          CRD         11.0   \n",
       "4  4003B847     0B766F10  2013-02-08 19:31:25          CRD         13.0   \n",
       "5  D72DF7B1     AFD828EE  2013-02-08 23:10:01          CRD         26.5   \n",
       "\n",
       "   tip_amount  total_amount     dropoff_datetime  passenger_count  \\\n",
       "1         3.0          23.5  2013-02-07 12:50:27                4   \n",
       "2         1.1           6.6  2013-02-08 08:59:43                1   \n",
       "3         2.3          13.8  2013-02-08 09:50:50                1   \n",
       "4         1.5          16.0  2013-02-08 19:46:23                1   \n",
       "5         5.5          33.0  2013-02-08 23:46:15                4   \n",
       "\n",
       "   trip_time_in_secs  trip_distance  pickup_longitude  pickup_latitude  \\\n",
       "1               1810            3.1        -73.989494        40.769588   \n",
       "2                168            1.0        -73.963036        40.799141   \n",
       "3                828            2.1        -73.987953        40.728764   \n",
       "4                897            3.3        -73.987282        40.743042   \n",
       "5               2173            7.6        -73.993004        40.720154   \n",
       "\n",
       "   dropoff_longitude  dropoff_latitude   tip_frac  \n",
       "1         -73.990303         40.737347  14.634146  \n",
       "2         -73.972168         40.786446  20.000000  \n",
       "3         -74.007118         40.705399  20.000000  \n",
       "4         -74.010284         40.703964  10.344828  \n",
       "5         -73.959747         40.808540  20.000000  "
      ]
     },
     "execution_count": 11,
     "metadata": {},
     "output_type": "execute_result"
    }
   ],
   "source": [
    "taxi_pd.drop(taxi_pd.columns[:2],axis=1,inplace=True)\n",
    "taxi_pd.head()"
   ]
  },
  {
   "cell_type": "code",
   "execution_count": 12,
   "metadata": {
    "collapsed": false
   },
   "outputs": [
    {
     "name": "stdout",
     "output_type": "stream",
     "text": [
      "Using date range 2013-02-01 00:00:00 to 2013-03-01 00:44:15.\n",
      "Total of 7,022,423 trips and 31,686 drivers.\n",
      "Total of 18,675,394.31 miles and 1,395,874.23 hours.\n"
     ]
    }
   ],
   "source": [
    "min_date = min(taxi_pd['pickup_datetime'])\n",
    "max_date = max(taxi_pd['dropoff_datetime'])\n",
    "num_trips = len(taxi_pd)\n",
    "num_drivers = len(taxi_pd['hack_license'].unique())\n",
    "total_miles = taxi_pd['trip_distance'].sum()\n",
    "total_time = taxi_pd['trip_time_in_secs'].sum()\n",
    "\n",
    "\n",
    "print 'Using date range {0} to {1}.'.format(min_date, max_date)\n",
    "print 'Total of {0:,} trips and {1:,} drivers.'.format(num_trips, num_drivers, grouping=True)\n",
    "print 'Total of {0:,.2f} miles and {1:,.2f} hours.'.format(total_miles, total_time/3600., grouping=True)\n",
    "# print 'Total of ${0:,.2f} = ${1:,.2f} in fares, ${2:,.2f} in tips, and ${3:,.2f} in tolls/fees.'.format(total_total_amount,\n",
    "#                                                                                                         total_fare_amount,\n",
    "#                                                                                                         total_tip_amount,\n",
    "#                                                                                                         total_fees_amount)"
   ]
  },
  {
   "cell_type": "code",
   "execution_count": 13,
   "metadata": {
    "collapsed": false
   },
   "outputs": [],
   "source": [
    "#scatter plot of pickups (red) and dropoffs(blue)\n",
    "num_scatter_pts = 200000\n",
    "scatter_ix = random.sample(range(len(taxi_pd)), num_scatter_pts)\n",
    "pick_loc_pd = taxi_pd[['pickup_longitude', 'pickup_latitude']]\n",
    "drop_loc_pd = taxi_pd[['dropoff_longitude', 'dropoff_latitude']]"
   ]
  },
  {
   "cell_type": "code",
   "execution_count": 14,
   "metadata": {
    "collapsed": false
   },
   "outputs": [
    {
     "data": {
      "image/png": "[encoded data removed]",
      "text/plain": [
       "<matplotlib.figure.Figure at 0x1aeebf190>"
      ]
     },
     "metadata": {},
     "output_type": "display_data"
    }
   ],
   "source": [
    "plt.figure(figsize=(12, 6))\n",
    "plt.rcParams.update({'font.size': 14})\n",
    "\n",
    "plt.subplot(1,2,1)\n",
    "plt.scatter(drop_loc_pd.ix[scatter_ix,0], drop_loc_pd.ix[scatter_ix,1], \n",
    "        s=1, alpha=0.05*num_scatter_pts/100000, c='b', lw=0)\n",
    "plt.xlim(min_lng, max_lng)\n",
    "plt.ylim(min_lat, max_lat)\n",
    "plt.xlabel('longitude (degrees)', size=14)\n",
    "plt.ylabel('latitude (degrees)', size=14)\n",
    "plt.title('Drop Offs')\n",
    "\n",
    "plt.subplot(1,2,2)\n",
    "plt.scatter(pick_loc_pd.ix[scatter_ix,0], pick_loc_pd.ix[scatter_ix,1], \n",
    "        s=1, alpha=0.05*num_scatter_pts/100000, c='r', lw=0)\n",
    "\n",
    "plt.xlim(min_lng, max_lng)\n",
    "plt.ylim(min_lat, max_lat)\n",
    "plt.xlabel('longitude (degrees)', size=14)\n",
    "#plt.ylabel('latitude (degrees)', size=14)\n",
    "plt.title('Pick Ups')\n",
    "\n",
    "#plt.savefig('scatter.png')\n",
    "plt.show()"
   ]
  },
  {
   "cell_type": "markdown",
   "metadata": {},
   "source": [
    "### Data into Spatical Zones"
   ]
  },
  {
   "cell_type": "code",
   "execution_count": 15,
   "metadata": {
    "collapsed": false
   },
   "outputs": [],
   "source": [
    "num_lat_bins = 40\n",
    "num_lng_bins = 40\n",
    "\n",
    "lat_bins = np.linspace(min_lat, max_lat, num_lat_bins+1)\n",
    "lng_bins = np.linspace(min_lng, max_lng, num_lng_bins+1)"
   ]
  },
  {
   "cell_type": "code",
   "execution_count": 16,
   "metadata": {
    "collapsed": false
   },
   "outputs": [
    {
     "data": {
      "image/png": "[encoded data removed]",
      "text/plain": [
       "<matplotlib.figure.Figure at 0x1a4c6dc10>"
      ]
     },
     "metadata": {},
     "output_type": "display_data"
    }
   ],
   "source": [
    "fig, ax = plt.subplots(1)\n",
    "plt.figure(1,figsize=(8, 8))\n",
    "\n",
    "plt.subplots\n",
    "plt.rcParams.update({'font.size': 14})\n",
    "\n",
    "ax.scatter(drop_loc_pd.ix[scatter_ix,0], drop_loc_pd.ix[scatter_ix,1], \n",
    "        s=1, alpha=0.05*num_scatter_pts/100000, c='b', lw=0, label='dropoffs')\n",
    "plt.xlim(min_lng, max_lng)\n",
    "plt.ylim(min_lat, max_lat)\n",
    "ax.set_xticks(lng_bins, minor=True)\n",
    "ax.set_yticks(lat_bins, minor=True)\n",
    "ax.xaxis.grid(True, which='minor')\n",
    "ax.yaxis.grid(True, which='minor')\n",
    "plt.xlabel('longitude (degrees)', size=14)\n",
    "plt.ylabel('latitude (degrees)', size=14)\n",
    "plt.title('Binning Data')\n",
    "#plt.savefig('figures/scatter-zones.png')\n",
    "plt.show()"
   ]
  },
  {
   "cell_type": "code",
   "execution_count": 17,
   "metadata": {
    "collapsed": false
   },
   "outputs": [
    {
     "name": "stdout",
     "output_type": "stream",
     "text": [
      "[(40.765, 40.77], (40.795, 40.8], (40.725, 40.73], (40.74, 40.745], (40.72, 40.725], ..., (40.775, 40.78], (40.74, 40.745], (40.75, 40.755], (40.75, 40.755], (40.75, 40.755]]\n",
      "Length: 7022423\n",
      "Categories (40, object): [(40.66, 40.665] < (40.665, 40.67] < (40.67, 40.675] < (40.675, 40.68] ... (40.84, 40.845] < (40.845, 40.85] < (40.85, 40.855] < (40.855, 40.86]]\n",
      "[ 40.66   40.665  40.67   40.675  40.68   40.685  40.69   40.695  40.7\n",
      "  40.705  40.71   40.715  40.72   40.725  40.73   40.735  40.74   40.745\n",
      "  40.75   40.755  40.76   40.765  40.77   40.775  40.78   40.785  40.79\n",
      "  40.795  40.8    40.805  40.81   40.815  40.82   40.825  40.83   40.835\n",
      "  40.84   40.845  40.85   40.855  40.86 ]\n",
      "[21 27 13 16 12]\n",
      "[(40.765, 40.77], (40.795, 40.8], (40.725, 40.73], (40.74, 40.745], (40.72, 40.725]]\n",
      "Categories (40, object): [(40.66, 40.665] < (40.665, 40.67] < (40.67, 40.675] < (40.675, 40.68] ... (40.84, 40.845] < (40.845, 40.85] < (40.85, 40.855] < (40.855, 40.86]]\n"
     ]
    }
   ],
   "source": [
    "#bin stops (pickup or dropoff) in uniform lng/lat bins\n",
    "lat_lng_mi = pd.MultiIndex.from_product([range(0, num_lat_bins), range(0, num_lng_bins)], names=['lat', 'lng'])\n",
    "\n",
    "pick_clat = pd.cut(taxi_pd.pickup_latitude.values, lat_bins)\n",
    "pick_clng = pd.cut(taxi_pd.pickup_longitude.values, lng_bins)\n",
    "drop_clat = pd.cut(taxi_pd.dropoff_latitude.values, lat_bins)\n",
    "drop_clng = pd.cut(taxi_pd.dropoff_longitude.values, lng_bins)\n",
    "\n",
    "print pick_clat\n",
    "print lat_bins\n",
    "print pick_clat.codes[:5]\n",
    "print pick_clat[:5]"
   ]
  },
  {
   "cell_type": "code",
   "execution_count": 18,
   "metadata": {
    "collapsed": true
   },
   "outputs": [],
   "source": [
    "pick_s = pd.Series(taxi_pd.pickup_longitude)\n",
    "drop_s = pd.Series(taxi_pd.dropoff_longitude)\n",
    "\n",
    "#total number of stops (pickup or dropoff) in each lng/lat bin\n",
    "stop_binned_cnts = pick_s.groupby([pick_clat.codes, pick_clng.codes]).count() + \\\n",
    "                   drop_s.groupby([drop_clat.codes, drop_clng.codes]).count()\n",
    "stop_binned_cnts_ri = stop_binned_cnts.reindex(lat_lng_mi).fillna(0)"
   ]
  },
  {
   "cell_type": "code",
   "execution_count": 19,
   "metadata": {
    "collapsed": false
   },
   "outputs": [
    {
     "data": {
      "image/png": "[encoded data removed]",
      "text/plain": [
       "<matplotlib.figure.Figure at 0x17e739150>"
      ]
     },
     "metadata": {},
     "output_type": "display_data"
    }
   ],
   "source": [
    "#plot stops in all bins\n",
    "plt.figure(figsize=(10, 10))\n",
    "plt.rcParams.update({'font.size': 14})\n",
    "weighted_coord_bins_cnts = np.reshape(stop_binned_cnts_ri.values, (num_lat_bins, num_lng_bins))\n",
    "extent = [lng_bins[0], lng_bins[-1], lat_bins[0], lat_bins[-1]]\n",
    "plt.imshow(np.log10(weighted_coord_bins_cnts + 0.1), interpolation='none', origin='lower', \n",
    "       extent=extent, vmin=0, vmax=int(0.8*np.log10(2*num_trips))+1, cmap=\"RdYlBu\")\n",
    "plt.xlabel('longitude (degrees)', size=14)\n",
    "plt.ylabel('latitude (degrees)', size=14)\n",
    "cbar = plt.colorbar(shrink=0.7, ticks=range(int(0.8*np.log10(num_trips))+2), pad=0.025)\n",
    "cbar.set_label('number of fares', rotation=270, labelpad=13, size=14)\n",
    "cbar.set_ticklabels([r'$\\leq1$', r'$10^1$', r'$10^2$', r'$10^3$', r'$10^4$', r'$10^5$', r'$\\geq10^6$'])\n",
    "cbar.ax.tick_params(labelsize=16)\n",
    "plt.savefig('binned_fares.png')\n",
    "plt.show()"
   ]
  },
  {
   "cell_type": "code",
   "execution_count": 20,
   "metadata": {
    "collapsed": true
   },
   "outputs": [],
   "source": [
    "#define zones = top #=num_zones - 1 bins with the most stops\n",
    "#lump all other stops in other bins (that were previously nonzero) into zone_other\n",
    "num_zones = 250\n",
    "zone_cutoff_cnt = np.sort(stop_binned_cnts_ri)[-num_zones]\n",
    "zone_cnts = stop_binned_cnts_ri[stop_binned_cnts_ri > zone_cutoff_cnt]\n",
    "\n",
    "zone_zero_cnts = stop_binned_cnts_ri[stop_binned_cnts_ri < 10.]\n",
    "zone_other_cnts = sum(stop_binned_cnts_ri[stop_binned_cnts_ri <= zone_cutoff_cnt])\n",
    "\n",
    "zone_cnts_ri = zone_cnts.reindex(lat_lng_mi).fillna(float(zone_other_cnts) / (num_lat_bins*num_lng_bins - num_zones - len(zone_zero_cnts) + 1))\n",
    "zone_cnts_ri[stop_binned_cnts_ri < 10.] = 0."
   ]
  },
  {
   "cell_type": "code",
   "execution_count": 21,
   "metadata": {
    "collapsed": false
   },
   "outputs": [
    {
     "data": {
      "image/png": "[encoded data removed]",
      "text/plain": [
       "<matplotlib.figure.Figure at 0x15bedb050>"
      ]
     },
     "metadata": {},
     "output_type": "display_data"
    }
   ],
   "source": [
    "#plot stops in all zones\n",
    "fig = plt.figure(figsize=(10, 10))\n",
    "weighted_coord_bins_cnts = np.reshape(zone_cnts_ri.values, (num_lat_bins, num_lng_bins))\n",
    "extent = [lng_bins[0], lng_bins[-1], lat_bins[0], lat_bins[-1]]\n",
    "plt.imshow(np.log10(weighted_coord_bins_cnts + 0.1), interpolation='none', origin='lower', \n",
    "       extent=extent, vmin=int(np.log10(zone_cutoff_cnt)), vmax=int(0.8*np.log10(2*num_trips))+1, cmap=\"RdYlBu\")\n",
    "plt.xlabel('longitude (degrees)', size=14)\n",
    "plt.ylabel('latitude (degrees)', size=14)\n",
    "cbar = plt.colorbar(shrink=0.7, ticks=range(int(np.log10(zone_cutoff_cnt)), int(0.8*np.log10(num_trips))+2), pad=0.025)\n",
    "cbar.set_label('number of fares', rotation=270, labelpad=13, size=14)\n",
    "cbar.set_ticklabels([r'$\\leq10^3$', r'$10^4$', r'$10^5$', r'$\\geq10^6$'])\n",
    "cbar.ax.tick_params(labelsize=16)\n",
    "#plt.savefig('figures/zoned_fares.png')\n",
    "ax = fig.gca()\n",
    "ax.grid(True, which='minor')\n",
    "#plt.grid(True, which='minor')\n",
    "plt.show()"
   ]
  },
  {
   "cell_type": "code",
   "execution_count": 22,
   "metadata": {
    "collapsed": true
   },
   "outputs": [],
   "source": [
    "#pickle numpy matrix of zones\n",
    "#zone numbers start at 1 in lower left, go L to R then up\n",
    "#other zone is set to 0\n",
    "#empty zoned are set to -1\n",
    "zone_matrix = np.reshape(stop_binned_cnts_ri.values, (num_lat_bins, num_lng_bins))\n",
    "zone_matrix[zone_matrix == 0] = -1.\n",
    "zone_matrix[(zone_matrix < zone_cutoff_cnt) * (zone_matrix > 0)] = 0.\n",
    "zone_matrix = (zone_matrix > 0) * np.reshape(range(1, num_lat_bins*num_lng_bins+1), (num_lat_bins, num_lng_bins))"
   ]
  },
  {
   "cell_type": "code",
   "execution_count": 23,
   "metadata": {
    "collapsed": false
   },
   "outputs": [
    {
     "data": {
      "image/png": "[encoded data removed]",
      "text/plain": [
       "<matplotlib.figure.Figure at 0x1bb543210>"
      ]
     },
     "metadata": {},
     "output_type": "display_data"
    }
   ],
   "source": [
    "plt.figure(figsize=(10, 10))\n",
    "plt.imshow(pd.DataFrame(zone_matrix[::-1]))\n",
    "plt.show()"
   ]
  },
  {
   "cell_type": "code",
   "execution_count": 24,
   "metadata": {
    "collapsed": true
   },
   "outputs": [],
   "source": [
    "np.savetxt('../data/zone.txt', zone_matrix, delimiter=',')"
   ]
  },
  {
   "cell_type": "markdown",
   "metadata": {},
   "source": [
    "### Get pickup and dropoff zones columns"
   ]
  },
  {
   "cell_type": "code",
   "execution_count": 25,
   "metadata": {
    "collapsed": true
   },
   "outputs": [],
   "source": [
    "lat_lng_mi = pd.MultiIndex.from_product([range(0, num_lat_bins), range(0, num_lng_bins)], names=['lat', 'lng'])\n",
    "zone_dict = np.append([0],zone_matrix.flatten())\n",
    "\n",
    "def zone_from_lng_lat(lng, lat, lng_bins, lat_bins):\n",
    "    num_lng_bins = len(lng_bins) - 1\n",
    "    num_lat_bins = len(lat_bins) - 1\n",
    "    \n",
    "    in_range = (min_lng <= lng) & (lng <= max_lng) & (min_lat <= lat) & (lat <= max_lat)\n",
    "    return zone_dict[np.vectorize(int)(in_range) * (np.digitize(lng, lng_bins) + (np.digitize(lat, lat_bins) - 1)*num_lng_bins)]\n"
   ]
  },
  {
   "cell_type": "code",
   "execution_count": 26,
   "metadata": {
    "collapsed": false
   },
   "outputs": [],
   "source": [
    "#convert lng/lat to zone\n",
    "taxi_pd['pickup_zone'] = zone_from_lng_lat(taxi_pd.pickup_longitude, taxi_pd.pickup_latitude, lng_bins, lat_bins)\n",
    "taxi_pd['dropoff_zone'] = zone_from_lng_lat(taxi_pd.dropoff_longitude, taxi_pd.dropoff_latitude, lng_bins, lat_bins)"
   ]
  },
  {
   "cell_type": "code",
   "execution_count": 27,
   "metadata": {
    "collapsed": false
   },
   "outputs": [
    {
     "data": {
      "text/html": [
       "<div>\n",
       "<table border=\"1\" class=\"dataframe\">\n",
       "  <thead>\n",
       "    <tr style=\"text-align: right;\">\n",
       "      <th></th>\n",
       "      <th>medallion</th>\n",
       "      <th>hack_license</th>\n",
       "      <th>pickup_datetime</th>\n",
       "      <th>payment_type</th>\n",
       "      <th>fare_amount</th>\n",
       "      <th>tip_amount</th>\n",
       "      <th>total_amount</th>\n",
       "      <th>dropoff_datetime</th>\n",
       "      <th>passenger_count</th>\n",
       "      <th>trip_time_in_secs</th>\n",
       "      <th>trip_distance</th>\n",
       "      <th>pickup_longitude</th>\n",
       "      <th>pickup_latitude</th>\n",
       "      <th>dropoff_longitude</th>\n",
       "      <th>dropoff_latitude</th>\n",
       "      <th>tip_frac</th>\n",
       "      <th>pickup_zone</th>\n",
       "      <th>dropoff_zone</th>\n",
       "    </tr>\n",
       "  </thead>\n",
       "  <tbody>\n",
       "    <tr>\n",
       "      <th>1</th>\n",
       "      <td>B42249AE</td>\n",
       "      <td>D4BB308D</td>\n",
       "      <td>2013-02-07 12:20:16</td>\n",
       "      <td>CRD</td>\n",
       "      <td>20.0</td>\n",
       "      <td>3.0</td>\n",
       "      <td>23.5</td>\n",
       "      <td>2013-02-07 12:50:27</td>\n",
       "      <td>4</td>\n",
       "      <td>1810</td>\n",
       "      <td>3.1</td>\n",
       "      <td>-73.989494</td>\n",
       "      <td>40.769588</td>\n",
       "      <td>-73.990303</td>\n",
       "      <td>40.737347</td>\n",
       "      <td>14.634146</td>\n",
       "      <td>848</td>\n",
       "      <td>607</td>\n",
       "    </tr>\n",
       "    <tr>\n",
       "      <th>2</th>\n",
       "      <td>89069922</td>\n",
       "      <td>6318C3AE</td>\n",
       "      <td>2013-02-08 08:56:54</td>\n",
       "      <td>CRD</td>\n",
       "      <td>5.0</td>\n",
       "      <td>1.1</td>\n",
       "      <td>6.6</td>\n",
       "      <td>2013-02-08 08:59:43</td>\n",
       "      <td>1</td>\n",
       "      <td>168</td>\n",
       "      <td>1.0</td>\n",
       "      <td>-73.963036</td>\n",
       "      <td>40.799141</td>\n",
       "      <td>-73.972168</td>\n",
       "      <td>40.786446</td>\n",
       "      <td>20.000000</td>\n",
       "      <td>1093</td>\n",
       "      <td>1011</td>\n",
       "    </tr>\n",
       "    <tr>\n",
       "      <th>3</th>\n",
       "      <td>74B7D835</td>\n",
       "      <td>D5E278C9</td>\n",
       "      <td>2013-02-08 09:37:02</td>\n",
       "      <td>CRD</td>\n",
       "      <td>11.0</td>\n",
       "      <td>2.3</td>\n",
       "      <td>13.8</td>\n",
       "      <td>2013-02-08 09:50:50</td>\n",
       "      <td>1</td>\n",
       "      <td>828</td>\n",
       "      <td>2.1</td>\n",
       "      <td>-73.987953</td>\n",
       "      <td>40.728764</td>\n",
       "      <td>-74.007118</td>\n",
       "      <td>40.705399</td>\n",
       "      <td>20.000000</td>\n",
       "      <td>528</td>\n",
       "      <td>364</td>\n",
       "    </tr>\n",
       "    <tr>\n",
       "      <th>4</th>\n",
       "      <td>4003B847</td>\n",
       "      <td>0B766F10</td>\n",
       "      <td>2013-02-08 19:31:25</td>\n",
       "      <td>CRD</td>\n",
       "      <td>13.0</td>\n",
       "      <td>1.5</td>\n",
       "      <td>16.0</td>\n",
       "      <td>2013-02-08 19:46:23</td>\n",
       "      <td>1</td>\n",
       "      <td>897</td>\n",
       "      <td>3.3</td>\n",
       "      <td>-73.987282</td>\n",
       "      <td>40.743042</td>\n",
       "      <td>-74.010284</td>\n",
       "      <td>40.703964</td>\n",
       "      <td>10.344828</td>\n",
       "      <td>648</td>\n",
       "      <td>323</td>\n",
       "    </tr>\n",
       "    <tr>\n",
       "      <th>5</th>\n",
       "      <td>D72DF7B1</td>\n",
       "      <td>AFD828EE</td>\n",
       "      <td>2013-02-08 23:10:01</td>\n",
       "      <td>CRD</td>\n",
       "      <td>26.5</td>\n",
       "      <td>5.5</td>\n",
       "      <td>33.0</td>\n",
       "      <td>2013-02-08 23:46:15</td>\n",
       "      <td>4</td>\n",
       "      <td>2173</td>\n",
       "      <td>7.6</td>\n",
       "      <td>-73.993004</td>\n",
       "      <td>40.720154</td>\n",
       "      <td>-73.959747</td>\n",
       "      <td>40.808540</td>\n",
       "      <td>20.000000</td>\n",
       "      <td>487</td>\n",
       "      <td>1174</td>\n",
       "    </tr>\n",
       "  </tbody>\n",
       "</table>\n",
       "</div>"
      ],
      "text/plain": [
       "  medallion hack_license      pickup_datetime payment_type  fare_amount  \\\n",
       "1  B42249AE     D4BB308D  2013-02-07 12:20:16          CRD         20.0   \n",
       "2  89069922     6318C3AE  2013-02-08 08:56:54          CRD          5.0   \n",
       "3  74B7D835     D5E278C9  2013-02-08 09:37:02          CRD         11.0   \n",
       "4  4003B847     0B766F10  2013-02-08 19:31:25          CRD         13.0   \n",
       "5  D72DF7B1     AFD828EE  2013-02-08 23:10:01          CRD         26.5   \n",
       "\n",
       "   tip_amount  total_amount     dropoff_datetime  passenger_count  \\\n",
       "1         3.0          23.5  2013-02-07 12:50:27                4   \n",
       "2         1.1           6.6  2013-02-08 08:59:43                1   \n",
       "3         2.3          13.8  2013-02-08 09:50:50                1   \n",
       "4         1.5          16.0  2013-02-08 19:46:23                1   \n",
       "5         5.5          33.0  2013-02-08 23:46:15                4   \n",
       "\n",
       "   trip_time_in_secs  trip_distance  pickup_longitude  pickup_latitude  \\\n",
       "1               1810            3.1        -73.989494        40.769588   \n",
       "2                168            1.0        -73.963036        40.799141   \n",
       "3                828            2.1        -73.987953        40.728764   \n",
       "4                897            3.3        -73.987282        40.743042   \n",
       "5               2173            7.6        -73.993004        40.720154   \n",
       "\n",
       "   dropoff_longitude  dropoff_latitude   tip_frac  pickup_zone  dropoff_zone  \n",
       "1         -73.990303         40.737347  14.634146          848           607  \n",
       "2         -73.972168         40.786446  20.000000         1093          1011  \n",
       "3         -74.007118         40.705399  20.000000          528           364  \n",
       "4         -74.010284         40.703964  10.344828          648           323  \n",
       "5         -73.959747         40.808540  20.000000          487          1174  "
      ]
     },
     "execution_count": 27,
     "metadata": {},
     "output_type": "execute_result"
    }
   ],
   "source": [
    "taxi_pd.head()"
   ]
  },
  {
   "cell_type": "code",
   "execution_count": 62,
   "metadata": {
    "collapsed": true
   },
   "outputs": [],
   "source": [
    "#taxi_pd.to_csv('../data/taxi_short_zoned_2.csv')"
   ]
  },
  {
   "cell_type": "code",
   "execution_count": null,
   "metadata": {
    "collapsed": true
   },
   "outputs": [],
   "source": []
  },
  {
   "cell_type": "markdown",
   "metadata": {},
   "source": [
    "### Process data for learning \n",
    "[comment]: <> (This is a comment, it will not be included)\n",
    "[comment]: <> ([sc](https://giphy.com/gifs/git-merge-cFkiFMDg3iFoI/download))\n",
    "[comment]: <> (<img src=\"files/giphy.gif\">)\n",
    "<img src=\"https://media.giphy.com/media/cFkiFMDg3iFoI/giphy.gif\">\n"
   ]
  },
  {
   "cell_type": "markdown",
   "metadata": {},
   "source": [
    "### Find distance traveled from previous dropoff \n",
    "### Find euclidean distance between zones"
   ]
  },
  {
   "cell_type": "code",
   "execution_count": 28,
   "metadata": {
    "collapsed": true
   },
   "outputs": [],
   "source": [
    "delta_lat = lat_bins[1] - lat_bins[0]\n",
    "delta_lng = lng_bins[1] - lng_bins[0]\n",
    "\n",
    "radius_earth_miles = 3963.17\n",
    "delta_lat_miles = np.deg2rad(delta_lat) * radius_earth_miles\n",
    "delta_lng_miles = np.deg2rad(delta_lng) * radius_earth_miles"
   ]
  },
  {
   "cell_type": "code",
   "execution_count": 29,
   "metadata": {
    "collapsed": true
   },
   "outputs": [],
   "source": [
    "def zone_dist_sq(zone1, zone2):\n",
    "    #calculate zone-to-zone distance using data\n",
    "    return taxi_pd[(taxi_pd.pickup_zone == zone1) & (taxi_pd.dropoff_zone == zone2)].trip_distance.mean()**2\n",
    "\n",
    "def zone_euclid_dist_sq(zone1, zone2):\n",
    "    if (zone1 == 0) or (zone2 == 0):\n",
    "        #use data for trips to/from \"other\" zone\n",
    "        return zone_dist_sq(zone1, zone2)\n",
    "    else:\n",
    "        #otherwise use euclidean distance\n",
    "        zone1_lat_bin = np.floor(zone1 / num_lng_bins) + 1\n",
    "        zone1_lng_bin = zone1 % num_lng_bins\n",
    "        zone2_lat_bin = np.floor(zone2 / num_lng_bins) + 1\n",
    "        zone2_lng_bin = zone2 % num_lng_bins\n",
    "\n",
    "        lat_miles = (zone2_lat_bin - zone1_lat_bin) * delta_lat_miles\n",
    "        lng_miles = (zone2_lng_bin - zone1_lng_bin) * delta_lat_miles\n",
    "    \n",
    "    return np.around(lat_miles**2 + lng_miles**2, decimals=2)"
   ]
  },
  {
   "cell_type": "code",
   "execution_count": 30,
   "metadata": {
    "collapsed": false
   },
   "outputs": [
    {
     "name": "stdout",
     "output_type": "stream",
     "text": [
      "Length of zones 251\n"
     ]
    }
   ],
   "source": [
    "zones = np.unique(zone_matrix)\n",
    "num_zones = len(zones)\n",
    "print \"Length of zones\", num_zones\n",
    "\n",
    "euclid_dist_array = np.around(np.sqrt(np.array([zone_euclid_dist_sq(zone1, zone2) for zone1 in zones for zone2 in zones])), 2)\n",
    "euclid_dist_matrix = np.around(np.sqrt(np.array([[zone_euclid_dist_sq(zone1, zone2) for zone1 in zones] for zone2 in zones])), 2)\n",
    "\n",
    "pick_zone_i = [zone1 for zone1 in zones for zone2 in zones]\n",
    "drop_zone_i = [zone2 for zone1 in zones for zone2 in zones]"
   ]
  },
  {
   "cell_type": "code",
   "execution_count": 31,
   "metadata": {
    "collapsed": true
   },
   "outputs": [],
   "source": [
    "euclid_dist_matrix_pd = pd.DataFrame(np.array([pick_zone_i, drop_zone_i, euclid_dist_array]).T, columns=['pickup_zone', \n",
    "                                                                                                      'dropoff_zone', \n",
    "                                                                                                      'euclid_distance'])"
   ]
  },
  {
   "cell_type": "code",
   "execution_count": 32,
   "metadata": {
    "collapsed": false
   },
   "outputs": [
    {
     "data": {
      "text/html": [
       "<div>\n",
       "<table border=\"1\" class=\"dataframe\">\n",
       "  <thead>\n",
       "    <tr style=\"text-align: right;\">\n",
       "      <th></th>\n",
       "      <th>pickup_zone</th>\n",
       "      <th>dropoff_zone</th>\n",
       "      <th>euclid_distance</th>\n",
       "    </tr>\n",
       "  </thead>\n",
       "  <tbody>\n",
       "    <tr>\n",
       "      <th>0</th>\n",
       "      <td>0.0</td>\n",
       "      <td>0.0</td>\n",
       "      <td>3.31</td>\n",
       "    </tr>\n",
       "    <tr>\n",
       "      <th>1</th>\n",
       "      <td>0.0</td>\n",
       "      <td>88.0</td>\n",
       "      <td>3.49</td>\n",
       "    </tr>\n",
       "    <tr>\n",
       "      <th>2</th>\n",
       "      <td>0.0</td>\n",
       "      <td>89.0</td>\n",
       "      <td>2.67</td>\n",
       "    </tr>\n",
       "    <tr>\n",
       "      <th>3</th>\n",
       "      <td>0.0</td>\n",
       "      <td>126.0</td>\n",
       "      <td>3.00</td>\n",
       "    </tr>\n",
       "    <tr>\n",
       "      <th>4</th>\n",
       "      <td>0.0</td>\n",
       "      <td>129.0</td>\n",
       "      <td>2.89</td>\n",
       "    </tr>\n",
       "  </tbody>\n",
       "</table>\n",
       "</div>"
      ],
      "text/plain": [
       "   pickup_zone  dropoff_zone  euclid_distance\n",
       "0          0.0           0.0             3.31\n",
       "1          0.0          88.0             3.49\n",
       "2          0.0          89.0             2.67\n",
       "3          0.0         126.0             3.00\n",
       "4          0.0         129.0             2.89"
      ]
     },
     "execution_count": 32,
     "metadata": {},
     "output_type": "execute_result"
    }
   ],
   "source": [
    "euclid_dist_matrix_pd.head()"
   ]
  },
  {
   "cell_type": "code",
   "execution_count": 33,
   "metadata": {
    "collapsed": true
   },
   "outputs": [],
   "source": [
    "euclid_dist_matrix_pd.to_pickle('../data/euclid_distance_251x251_pd_new.pkl')"
   ]
  },
  {
   "cell_type": "code",
   "execution_count": null,
   "metadata": {
    "collapsed": true
   },
   "outputs": [],
   "source": []
  },
  {
   "cell_type": "code",
   "execution_count": 34,
   "metadata": {
    "collapsed": false
   },
   "outputs": [
    {
     "data": {
      "text/html": [
       "<div>\n",
       "<table border=\"1\" class=\"dataframe\">\n",
       "  <thead>\n",
       "    <tr style=\"text-align: right;\">\n",
       "      <th></th>\n",
       "      <th>medallion</th>\n",
       "      <th>hack_license</th>\n",
       "      <th>pickup_datetime</th>\n",
       "      <th>payment_type</th>\n",
       "      <th>fare_amount</th>\n",
       "      <th>tip_amount</th>\n",
       "      <th>total_amount</th>\n",
       "      <th>dropoff_datetime</th>\n",
       "      <th>passenger_count</th>\n",
       "      <th>trip_time_in_secs</th>\n",
       "      <th>trip_distance</th>\n",
       "      <th>pickup_longitude</th>\n",
       "      <th>pickup_latitude</th>\n",
       "      <th>dropoff_longitude</th>\n",
       "      <th>dropoff_latitude</th>\n",
       "      <th>tip_frac</th>\n",
       "      <th>pickup_zone</th>\n",
       "      <th>dropoff_zone</th>\n",
       "    </tr>\n",
       "  </thead>\n",
       "  <tbody>\n",
       "    <tr>\n",
       "      <th>13073686</th>\n",
       "      <td>BE530E79</td>\n",
       "      <td>0002555B</td>\n",
       "      <td>2013-02-01 00:07:13</td>\n",
       "      <td>CRD</td>\n",
       "      <td>28.0</td>\n",
       "      <td>3.5</td>\n",
       "      <td>37.3</td>\n",
       "      <td>2013-02-01 00:28:46</td>\n",
       "      <td>1</td>\n",
       "      <td>1293</td>\n",
       "      <td>9.1</td>\n",
       "      <td>-73.872993</td>\n",
       "      <td>40.774044</td>\n",
       "      <td>-73.994263</td>\n",
       "      <td>40.759243</td>\n",
       "      <td>10.355030</td>\n",
       "      <td>911</td>\n",
       "      <td>767</td>\n",
       "    </tr>\n",
       "    <tr>\n",
       "      <th>13090348</th>\n",
       "      <td>BE530E79</td>\n",
       "      <td>0002555B</td>\n",
       "      <td>2013-02-01 00:34:29</td>\n",
       "      <td>CRD</td>\n",
       "      <td>24.0</td>\n",
       "      <td>2.5</td>\n",
       "      <td>27.5</td>\n",
       "      <td>2013-02-01 01:02:02</td>\n",
       "      <td>1</td>\n",
       "      <td>1652</td>\n",
       "      <td>6.7</td>\n",
       "      <td>-73.989601</td>\n",
       "      <td>40.762184</td>\n",
       "      <td>-73.964287</td>\n",
       "      <td>40.719067</td>\n",
       "      <td>10.000000</td>\n",
       "      <td>808</td>\n",
       "      <td>453</td>\n",
       "    </tr>\n",
       "    <tr>\n",
       "      <th>13192216</th>\n",
       "      <td>BE530E79</td>\n",
       "      <td>0002555B</td>\n",
       "      <td>2013-02-01 18:18:54</td>\n",
       "      <td>CRD</td>\n",
       "      <td>32.5</td>\n",
       "      <td>9.7</td>\n",
       "      <td>48.5</td>\n",
       "      <td>2013-02-01 18:53:29</td>\n",
       "      <td>1</td>\n",
       "      <td>2074</td>\n",
       "      <td>9.2</td>\n",
       "      <td>-73.885262</td>\n",
       "      <td>40.773018</td>\n",
       "      <td>-74.001083</td>\n",
       "      <td>40.736820</td>\n",
       "      <td>25.000000</td>\n",
       "      <td>908</td>\n",
       "      <td>605</td>\n",
       "    </tr>\n",
       "    <tr>\n",
       "      <th>13212524</th>\n",
       "      <td>BE530E79</td>\n",
       "      <td>0002555B</td>\n",
       "      <td>2013-02-01 18:55:12</td>\n",
       "      <td>CRD</td>\n",
       "      <td>11.5</td>\n",
       "      <td>2.6</td>\n",
       "      <td>15.6</td>\n",
       "      <td>2013-02-01 19:10:55</td>\n",
       "      <td>2</td>\n",
       "      <td>943</td>\n",
       "      <td>1.4</td>\n",
       "      <td>-74.001274</td>\n",
       "      <td>40.736412</td>\n",
       "      <td>-74.008301</td>\n",
       "      <td>40.716595</td>\n",
       "      <td>20.000000</td>\n",
       "      <td>605</td>\n",
       "      <td>444</td>\n",
       "    </tr>\n",
       "    <tr>\n",
       "      <th>13183784</th>\n",
       "      <td>BE530E79</td>\n",
       "      <td>0002555B</td>\n",
       "      <td>2013-02-01 19:12:16</td>\n",
       "      <td>CRD</td>\n",
       "      <td>10.0</td>\n",
       "      <td>1.5</td>\n",
       "      <td>13.0</td>\n",
       "      <td>2013-02-01 19:24:31</td>\n",
       "      <td>1</td>\n",
       "      <td>734</td>\n",
       "      <td>1.8</td>\n",
       "      <td>-74.008575</td>\n",
       "      <td>40.716484</td>\n",
       "      <td>-73.996277</td>\n",
       "      <td>40.737926</td>\n",
       "      <td>13.043478</td>\n",
       "      <td>444</td>\n",
       "      <td>606</td>\n",
       "    </tr>\n",
       "  </tbody>\n",
       "</table>\n",
       "</div>"
      ],
      "text/plain": [
       "         medallion hack_license      pickup_datetime payment_type  \\\n",
       "13073686  BE530E79     0002555B  2013-02-01 00:07:13          CRD   \n",
       "13090348  BE530E79     0002555B  2013-02-01 00:34:29          CRD   \n",
       "13192216  BE530E79     0002555B  2013-02-01 18:18:54          CRD   \n",
       "13212524  BE530E79     0002555B  2013-02-01 18:55:12          CRD   \n",
       "13183784  BE530E79     0002555B  2013-02-01 19:12:16          CRD   \n",
       "\n",
       "          fare_amount  tip_amount  total_amount     dropoff_datetime  \\\n",
       "13073686         28.0         3.5          37.3  2013-02-01 00:28:46   \n",
       "13090348         24.0         2.5          27.5  2013-02-01 01:02:02   \n",
       "13192216         32.5         9.7          48.5  2013-02-01 18:53:29   \n",
       "13212524         11.5         2.6          15.6  2013-02-01 19:10:55   \n",
       "13183784         10.0         1.5          13.0  2013-02-01 19:24:31   \n",
       "\n",
       "          passenger_count  trip_time_in_secs  trip_distance  pickup_longitude  \\\n",
       "13073686                1               1293            9.1        -73.872993   \n",
       "13090348                1               1652            6.7        -73.989601   \n",
       "13192216                1               2074            9.2        -73.885262   \n",
       "13212524                2                943            1.4        -74.001274   \n",
       "13183784                1                734            1.8        -74.008575   \n",
       "\n",
       "          pickup_latitude  dropoff_longitude  dropoff_latitude   tip_frac  \\\n",
       "13073686        40.774044         -73.994263         40.759243  10.355030   \n",
       "13090348        40.762184         -73.964287         40.719067  10.000000   \n",
       "13192216        40.773018         -74.001083         40.736820  25.000000   \n",
       "13212524        40.736412         -74.008301         40.716595  20.000000   \n",
       "13183784        40.716484         -73.996277         40.737926  13.043478   \n",
       "\n",
       "          pickup_zone  dropoff_zone  \n",
       "13073686          911           767  \n",
       "13090348          808           453  \n",
       "13192216          908           605  \n",
       "13212524          605           444  \n",
       "13183784          444           606  "
      ]
     },
     "execution_count": 34,
     "metadata": {},
     "output_type": "execute_result"
    }
   ],
   "source": [
    "taxi_pd.drop_duplicates(keep = 'first')\n",
    "taxi_pd = taxi_pd.sort_values(['hack_license','pickup_datetime'])\n",
    "taxi_pd.head() "
   ]
  },
  {
   "cell_type": "code",
   "execution_count": 35,
   "metadata": {
    "collapsed": true
   },
   "outputs": [],
   "source": [
    "taxi_pd.pickup_datetime = pd.to_datetime(taxi_pd.pickup_datetime)\n",
    "taxi_pd.dropoff_datetime = pd.to_datetime(taxi_pd.dropoff_datetime)\n",
    "\n",
    "#find previous dropoff zone and time elapsed\n",
    "taxi_pd['prev_dropoff_zone'] = taxi_pd.groupby('hack_license').dropoff_zone.shift().values\n",
    "taxi_pd['time_since_prev_fare'] = (taxi_pd.pickup_datetime - \\\n",
    "                                   taxi_pd.groupby('hack_license').dropoff_datetime.shift().values).astype('timedelta64[s]')"
   ]
  },
  {
   "cell_type": "code",
   "execution_count": 36,
   "metadata": {
    "collapsed": true
   },
   "outputs": [],
   "source": [
    "#if time since previous fare is greater than 6 hours, assume new shift and drop\n",
    "taxi_pd = taxi_pd[taxi_pd.time_since_prev_fare <= 6*3600]"
   ]
  },
  {
   "cell_type": "code",
   "execution_count": 37,
   "metadata": {
    "collapsed": false
   },
   "outputs": [],
   "source": [
    "taxi_pd['day_of_week'] = taxi_pd.pickup_datetime.apply(lambda x: x.dayofweek)\n",
    "taxi_pd['pickup_hour'] = taxi_pd.pickup_datetime.apply(lambda x: x.hour)\n",
    "#taxi_pd['pickup_minute'] = taxi_pd.pickup_datetime.apply(lambda x: x.hour*60 + x.minute)\n",
    "\n",
    "#taxi_pd.head()"
   ]
  },
  {
   "cell_type": "code",
   "execution_count": 39,
   "metadata": {
    "collapsed": false
   },
   "outputs": [],
   "source": [
    "taxi_pd = taxi_pd.groupby('hack_license').filter(lambda x: len(x) > 300)"
   ]
  },
  {
   "cell_type": "code",
   "execution_count": 40,
   "metadata": {
    "collapsed": false
   },
   "outputs": [
    {
     "data": {
      "text/plain": [
       "Index([u'medallion', u'hack_license', u'pickup_datetime', u'payment_type',\n",
       "       u'fare_amount', u'tip_amount', u'total_amount', u'dropoff_datetime',\n",
       "       u'passenger_count', u'trip_time_in_secs', u'trip_distance',\n",
       "       u'pickup_longitude', u'pickup_latitude', u'dropoff_longitude',\n",
       "       u'dropoff_latitude', u'tip_frac', u'pickup_zone', u'dropoff_zone',\n",
       "       u'prev_dropoff_zone', u'time_since_prev_fare', u'day_of_week',\n",
       "       u'pickup_hour'],\n",
       "      dtype='object')"
      ]
     },
     "execution_count": 40,
     "metadata": {},
     "output_type": "execute_result"
    }
   ],
   "source": [
    "taxi_pd.columns"
   ]
  },
  {
   "cell_type": "code",
   "execution_count": 41,
   "metadata": {
    "collapsed": true
   },
   "outputs": [],
   "source": [
    "taxi_pd.drop(['medallion', 'payment_type', ], axis=1, inplace=True)"
   ]
  },
  {
   "cell_type": "code",
   "execution_count": 42,
   "metadata": {
    "collapsed": false
   },
   "outputs": [
    {
     "data": {
      "text/html": [
       "<div>\n",
       "<table border=\"1\" class=\"dataframe\">\n",
       "  <thead>\n",
       "    <tr style=\"text-align: right;\">\n",
       "      <th></th>\n",
       "      <th>dropoff_zone</th>\n",
       "      <th>prev_dropoff_zone</th>\n",
       "    </tr>\n",
       "  </thead>\n",
       "  <tbody>\n",
       "    <tr>\n",
       "      <th>13099317</th>\n",
       "      <td>566</td>\n",
       "      <td>0.0</td>\n",
       "    </tr>\n",
       "    <tr>\n",
       "      <th>13219882</th>\n",
       "      <td>570</td>\n",
       "      <td>687.0</td>\n",
       "    </tr>\n",
       "    <tr>\n",
       "      <th>13203318</th>\n",
       "      <td>810</td>\n",
       "      <td>570.0</td>\n",
       "    </tr>\n",
       "    <tr>\n",
       "      <th>13190056</th>\n",
       "      <td>0</td>\n",
       "      <td>810.0</td>\n",
       "    </tr>\n",
       "    <tr>\n",
       "      <th>13189027</th>\n",
       "      <td>488</td>\n",
       "      <td>0.0</td>\n",
       "    </tr>\n",
       "  </tbody>\n",
       "</table>\n",
       "</div>"
      ],
      "text/plain": [
       "          dropoff_zone  prev_dropoff_zone\n",
       "13099317           566                0.0\n",
       "13219882           570              687.0\n",
       "13203318           810              570.0\n",
       "13190056             0              810.0\n",
       "13189027           488                0.0"
      ]
     },
     "execution_count": 42,
     "metadata": {},
     "output_type": "execute_result"
    }
   ],
   "source": [
    "taxi_pd[['dropoff_zone', 'prev_dropoff_zone']].iloc[:5]"
   ]
  },
  {
   "cell_type": "code",
   "execution_count": 43,
   "metadata": {
    "collapsed": true
   },
   "outputs": [],
   "source": [
    "taxi_pd.prev_dropoff_zone = taxi_pd.prev_dropoff_zone.astype(int)"
   ]
  },
  {
   "cell_type": "code",
   "execution_count": 46,
   "metadata": {
    "collapsed": false
   },
   "outputs": [],
   "source": [
    "taxi_pd.to_csv('../data/taxi_beforeMerge_2.csv')"
   ]
  },
  {
   "cell_type": "code",
   "execution_count": null,
   "metadata": {
    "collapsed": true
   },
   "outputs": [],
   "source": []
  },
  {
   "cell_type": "code",
   "execution_count": 4,
   "metadata": {
    "collapsed": false
   },
   "outputs": [
    {
     "data": {
      "text/html": [
       "<div>\n",
       "<table border=\"1\" class=\"dataframe\">\n",
       "  <thead>\n",
       "    <tr style=\"text-align: right;\">\n",
       "      <th></th>\n",
       "      <th>Unnamed: 0</th>\n",
       "      <th>hack_license</th>\n",
       "      <th>pickup_datetime</th>\n",
       "      <th>fare_amount</th>\n",
       "      <th>tip_amount</th>\n",
       "      <th>total_amount</th>\n",
       "      <th>dropoff_datetime</th>\n",
       "      <th>passenger_count</th>\n",
       "      <th>trip_time_in_secs</th>\n",
       "      <th>trip_distance</th>\n",
       "      <th>...</th>\n",
       "      <th>pickup_latitude</th>\n",
       "      <th>dropoff_longitude</th>\n",
       "      <th>dropoff_latitude</th>\n",
       "      <th>tip_frac</th>\n",
       "      <th>pickup_zone</th>\n",
       "      <th>dropoff_zone</th>\n",
       "      <th>prev_dropoff_zone</th>\n",
       "      <th>time_since_prev_fare</th>\n",
       "      <th>day_of_week</th>\n",
       "      <th>pickup_hour</th>\n",
       "    </tr>\n",
       "  </thead>\n",
       "  <tbody>\n",
       "    <tr>\n",
       "      <th>0</th>\n",
       "      <td>13099317</td>\n",
       "      <td>00360896</td>\n",
       "      <td>2013-02-01 02:38:06</td>\n",
       "      <td>5.0</td>\n",
       "      <td>1.8</td>\n",
       "      <td>7.8</td>\n",
       "      <td>2013-02-01 02:40:45</td>\n",
       "      <td>1</td>\n",
       "      <td>158</td>\n",
       "      <td>0.8</td>\n",
       "      <td>...</td>\n",
       "      <td>40.742111</td>\n",
       "      <td>-73.997665</td>\n",
       "      <td>40.733513</td>\n",
       "      <td>30.000000</td>\n",
       "      <td>647</td>\n",
       "      <td>566</td>\n",
       "      <td>0</td>\n",
       "      <td>2311.0</td>\n",
       "      <td>4</td>\n",
       "      <td>2</td>\n",
       "    </tr>\n",
       "    <tr>\n",
       "      <th>1</th>\n",
       "      <td>13219882</td>\n",
       "      <td>00360896</td>\n",
       "      <td>2013-02-01 18:16:35</td>\n",
       "      <td>13.0</td>\n",
       "      <td>1.0</td>\n",
       "      <td>15.5</td>\n",
       "      <td>2013-02-01 18:33:39</td>\n",
       "      <td>1</td>\n",
       "      <td>1023</td>\n",
       "      <td>2.4</td>\n",
       "      <td>...</td>\n",
       "      <td>40.749664</td>\n",
       "      <td>-73.979965</td>\n",
       "      <td>40.732517</td>\n",
       "      <td>6.896552</td>\n",
       "      <td>687</td>\n",
       "      <td>570</td>\n",
       "      <td>687</td>\n",
       "      <td>54.0</td>\n",
       "      <td>4</td>\n",
       "      <td>18</td>\n",
       "    </tr>\n",
       "    <tr>\n",
       "      <th>2</th>\n",
       "      <td>13203318</td>\n",
       "      <td>00360896</td>\n",
       "      <td>2013-02-01 18:57:41</td>\n",
       "      <td>4.5</td>\n",
       "      <td>1.2</td>\n",
       "      <td>7.2</td>\n",
       "      <td>2013-02-01 19:00:51</td>\n",
       "      <td>1</td>\n",
       "      <td>189</td>\n",
       "      <td>0.8</td>\n",
       "      <td>...</td>\n",
       "      <td>40.761417</td>\n",
       "      <td>-73.975021</td>\n",
       "      <td>40.763752</td>\n",
       "      <td>20.000000</td>\n",
       "      <td>808</td>\n",
       "      <td>810</td>\n",
       "      <td>570</td>\n",
       "      <td>1442.0</td>\n",
       "      <td>4</td>\n",
       "      <td>18</td>\n",
       "    </tr>\n",
       "    <tr>\n",
       "      <th>3</th>\n",
       "      <td>13190056</td>\n",
       "      <td>00360896</td>\n",
       "      <td>2013-02-01 19:19:55</td>\n",
       "      <td>30.0</td>\n",
       "      <td>6.5</td>\n",
       "      <td>38.0</td>\n",
       "      <td>2013-02-01 20:00:50</td>\n",
       "      <td>1</td>\n",
       "      <td>2454</td>\n",
       "      <td>6.6</td>\n",
       "      <td>...</td>\n",
       "      <td>40.769581</td>\n",
       "      <td>-73.972214</td>\n",
       "      <td>40.693241</td>\n",
       "      <td>20.634921</td>\n",
       "      <td>848</td>\n",
       "      <td>0</td>\n",
       "      <td>810</td>\n",
       "      <td>1144.0</td>\n",
       "      <td>4</td>\n",
       "      <td>19</td>\n",
       "    </tr>\n",
       "    <tr>\n",
       "      <th>4</th>\n",
       "      <td>13189027</td>\n",
       "      <td>00360896</td>\n",
       "      <td>2013-02-01 20:18:38</td>\n",
       "      <td>7.5</td>\n",
       "      <td>1.7</td>\n",
       "      <td>10.2</td>\n",
       "      <td>2013-02-01 20:28:37</td>\n",
       "      <td>1</td>\n",
       "      <td>599</td>\n",
       "      <td>0.5</td>\n",
       "      <td>...</td>\n",
       "      <td>40.726955</td>\n",
       "      <td>-73.989426</td>\n",
       "      <td>40.721336</td>\n",
       "      <td>20.000000</td>\n",
       "      <td>527</td>\n",
       "      <td>488</td>\n",
       "      <td>0</td>\n",
       "      <td>1068.0</td>\n",
       "      <td>4</td>\n",
       "      <td>20</td>\n",
       "    </tr>\n",
       "  </tbody>\n",
       "</table>\n",
       "<p>5 rows × 21 columns</p>\n",
       "</div>"
      ],
      "text/plain": [
       "   Unnamed: 0 hack_license      pickup_datetime  fare_amount  tip_amount  \\\n",
       "0    13099317     00360896  2013-02-01 02:38:06          5.0         1.8   \n",
       "1    13219882     00360896  2013-02-01 18:16:35         13.0         1.0   \n",
       "2    13203318     00360896  2013-02-01 18:57:41          4.5         1.2   \n",
       "3    13190056     00360896  2013-02-01 19:19:55         30.0         6.5   \n",
       "4    13189027     00360896  2013-02-01 20:18:38          7.5         1.7   \n",
       "\n",
       "   total_amount     dropoff_datetime  passenger_count  trip_time_in_secs  \\\n",
       "0           7.8  2013-02-01 02:40:45                1                158   \n",
       "1          15.5  2013-02-01 18:33:39                1               1023   \n",
       "2           7.2  2013-02-01 19:00:51                1                189   \n",
       "3          38.0  2013-02-01 20:00:50                1               2454   \n",
       "4          10.2  2013-02-01 20:28:37                1                599   \n",
       "\n",
       "   trip_distance     ...       pickup_latitude  dropoff_longitude  \\\n",
       "0            0.8     ...             40.742111         -73.997665   \n",
       "1            2.4     ...             40.749664         -73.979965   \n",
       "2            0.8     ...             40.761417         -73.975021   \n",
       "3            6.6     ...             40.769581         -73.972214   \n",
       "4            0.5     ...             40.726955         -73.989426   \n",
       "\n",
       "   dropoff_latitude   tip_frac  pickup_zone  dropoff_zone  prev_dropoff_zone  \\\n",
       "0         40.733513  30.000000          647           566                  0   \n",
       "1         40.732517   6.896552          687           570                687   \n",
       "2         40.763752  20.000000          808           810                570   \n",
       "3         40.693241  20.634921          848             0                810   \n",
       "4         40.721336  20.000000          527           488                  0   \n",
       "\n",
       "   time_since_prev_fare  day_of_week  pickup_hour  \n",
       "0                2311.0            4            2  \n",
       "1                  54.0            4           18  \n",
       "2                1442.0            4           18  \n",
       "3                1144.0            4           19  \n",
       "4                1068.0            4           20  \n",
       "\n",
       "[5 rows x 21 columns]"
      ]
     },
     "execution_count": 4,
     "metadata": {},
     "output_type": "execute_result"
    }
   ],
   "source": [
    "taxi_pd = pd.read_csv('../data/taxi_beforeMerge_2.csv')\n",
    "taxi_pd.head()"
   ]
  },
  {
   "cell_type": "code",
   "execution_count": 5,
   "metadata": {
    "collapsed": false
   },
   "outputs": [
    {
     "data": {
      "text/html": [
       "<div>\n",
       "<table border=\"1\" class=\"dataframe\">\n",
       "  <thead>\n",
       "    <tr style=\"text-align: right;\">\n",
       "      <th></th>\n",
       "      <th>pickup_zone</th>\n",
       "      <th>dropoff_zone</th>\n",
       "      <th>euclid_distance</th>\n",
       "    </tr>\n",
       "  </thead>\n",
       "  <tbody>\n",
       "    <tr>\n",
       "      <th>0</th>\n",
       "      <td>0.0</td>\n",
       "      <td>0.0</td>\n",
       "      <td>3.31</td>\n",
       "    </tr>\n",
       "    <tr>\n",
       "      <th>1</th>\n",
       "      <td>0.0</td>\n",
       "      <td>88.0</td>\n",
       "      <td>3.49</td>\n",
       "    </tr>\n",
       "    <tr>\n",
       "      <th>2</th>\n",
       "      <td>0.0</td>\n",
       "      <td>89.0</td>\n",
       "      <td>2.67</td>\n",
       "    </tr>\n",
       "    <tr>\n",
       "      <th>3</th>\n",
       "      <td>0.0</td>\n",
       "      <td>126.0</td>\n",
       "      <td>3.00</td>\n",
       "    </tr>\n",
       "    <tr>\n",
       "      <th>4</th>\n",
       "      <td>0.0</td>\n",
       "      <td>129.0</td>\n",
       "      <td>2.89</td>\n",
       "    </tr>\n",
       "  </tbody>\n",
       "</table>\n",
       "</div>"
      ],
      "text/plain": [
       "   pickup_zone  dropoff_zone  euclid_distance\n",
       "0          0.0           0.0             3.31\n",
       "1          0.0          88.0             3.49\n",
       "2          0.0          89.0             2.67\n",
       "3          0.0         126.0             3.00\n",
       "4          0.0         129.0             2.89"
      ]
     },
     "execution_count": 5,
     "metadata": {},
     "output_type": "execute_result"
    }
   ],
   "source": [
    "#del euclid_dist_matrix_pd \n",
    "euclid_dist_matrix_pd = pd.read_pickle('../data/euclid_distance_251x251_pd_new.pkl')\n",
    "euclid_dist_matrix_pd.head()"
   ]
  },
  {
   "cell_type": "code",
   "execution_count": 6,
   "metadata": {
    "collapsed": false
   },
   "outputs": [
    {
     "name": "stdout",
     "output_type": "stream",
     "text": [
      "Index([u'pickup_zone', u'dropoff_zone', u'euclid_distance'], dtype='object')\n"
     ]
    }
   ],
   "source": [
    "print euclid_dist_matrix_pd.columns"
   ]
  },
  {
   "cell_type": "code",
   "execution_count": 7,
   "metadata": {
    "collapsed": false
   },
   "outputs": [
    {
     "data": {
      "text/html": [
       "<div>\n",
       "<table border=\"1\" class=\"dataframe\">\n",
       "  <thead>\n",
       "    <tr style=\"text-align: right;\">\n",
       "      <th></th>\n",
       "      <th>pickup_zone</th>\n",
       "      <th>dropoff_zone</th>\n",
       "      <th>euclid_distance</th>\n",
       "    </tr>\n",
       "  </thead>\n",
       "  <tbody>\n",
       "    <tr>\n",
       "      <th>0</th>\n",
       "      <td>0</td>\n",
       "      <td>0</td>\n",
       "      <td>3.31</td>\n",
       "    </tr>\n",
       "    <tr>\n",
       "      <th>1</th>\n",
       "      <td>0</td>\n",
       "      <td>88</td>\n",
       "      <td>3.49</td>\n",
       "    </tr>\n",
       "    <tr>\n",
       "      <th>2</th>\n",
       "      <td>0</td>\n",
       "      <td>89</td>\n",
       "      <td>2.67</td>\n",
       "    </tr>\n",
       "    <tr>\n",
       "      <th>3</th>\n",
       "      <td>0</td>\n",
       "      <td>126</td>\n",
       "      <td>3.00</td>\n",
       "    </tr>\n",
       "    <tr>\n",
       "      <th>4</th>\n",
       "      <td>0</td>\n",
       "      <td>129</td>\n",
       "      <td>2.89</td>\n",
       "    </tr>\n",
       "  </tbody>\n",
       "</table>\n",
       "</div>"
      ],
      "text/plain": [
       "   pickup_zone  dropoff_zone  euclid_distance\n",
       "0            0             0             3.31\n",
       "1            0            88             3.49\n",
       "2            0            89             2.67\n",
       "3            0           126             3.00\n",
       "4            0           129             2.89"
      ]
     },
     "execution_count": 7,
     "metadata": {},
     "output_type": "execute_result"
    }
   ],
   "source": [
    "euclid_dist_matrix_pd.pickup_zone = euclid_dist_matrix_pd.pickup_zone.astype(int)\n",
    "euclid_dist_matrix_pd.dropoff_zone = euclid_dist_matrix_pd.dropoff_zone.astype(int)\n",
    "euclid_dist_matrix_pd.head()"
   ]
  },
  {
   "cell_type": "code",
   "execution_count": 8,
   "metadata": {
    "collapsed": true
   },
   "outputs": [],
   "source": [
    "taxi_pd['pickDrop'] = zip(taxi_pd.dropoff_zone, taxi_pd.prev_dropoff_zone)"
   ]
  },
  {
   "cell_type": "code",
   "execution_count": 9,
   "metadata": {
    "collapsed": false
   },
   "outputs": [
    {
     "data": {
      "text/html": [
       "<div>\n",
       "<table border=\"1\" class=\"dataframe\">\n",
       "  <thead>\n",
       "    <tr style=\"text-align: right;\">\n",
       "      <th></th>\n",
       "      <th>pickup_zone</th>\n",
       "      <th>dropoff_zone</th>\n",
       "      <th>euclid_distance</th>\n",
       "      <th>pickDrop</th>\n",
       "    </tr>\n",
       "  </thead>\n",
       "  <tbody>\n",
       "    <tr>\n",
       "      <th>0</th>\n",
       "      <td>0</td>\n",
       "      <td>0</td>\n",
       "      <td>3.31</td>\n",
       "      <td>(0, 0)</td>\n",
       "    </tr>\n",
       "    <tr>\n",
       "      <th>1</th>\n",
       "      <td>0</td>\n",
       "      <td>88</td>\n",
       "      <td>3.49</td>\n",
       "      <td>(0, 88)</td>\n",
       "    </tr>\n",
       "    <tr>\n",
       "      <th>2</th>\n",
       "      <td>0</td>\n",
       "      <td>89</td>\n",
       "      <td>2.67</td>\n",
       "      <td>(0, 89)</td>\n",
       "    </tr>\n",
       "    <tr>\n",
       "      <th>3</th>\n",
       "      <td>0</td>\n",
       "      <td>126</td>\n",
       "      <td>3.00</td>\n",
       "      <td>(0, 126)</td>\n",
       "    </tr>\n",
       "    <tr>\n",
       "      <th>4</th>\n",
       "      <td>0</td>\n",
       "      <td>129</td>\n",
       "      <td>2.89</td>\n",
       "      <td>(0, 129)</td>\n",
       "    </tr>\n",
       "  </tbody>\n",
       "</table>\n",
       "</div>"
      ],
      "text/plain": [
       "   pickup_zone  dropoff_zone  euclid_distance  pickDrop\n",
       "0            0             0             3.31    (0, 0)\n",
       "1            0            88             3.49   (0, 88)\n",
       "2            0            89             2.67   (0, 89)\n",
       "3            0           126             3.00  (0, 126)\n",
       "4            0           129             2.89  (0, 129)"
      ]
     },
     "execution_count": 9,
     "metadata": {},
     "output_type": "execute_result"
    }
   ],
   "source": [
    "euclid_dist_matrix_pd['pickDrop'] = zip(euclid_dist_matrix_pd.pickup_zone, \n",
    "                                        euclid_dist_matrix_pd.dropoff_zone)\n",
    "euclid_dist_matrix_pd.head()                              "
   ]
  },
  {
   "cell_type": "code",
   "execution_count": 15,
   "metadata": {
    "collapsed": false
   },
   "outputs": [
    {
     "name": "stdout",
     "output_type": "stream",
     "text": [
      "Index([u'Unnamed: 0', u'hack_license', u'pickup_datetime', u'fare_amount',\n",
      "       u'tip_amount', u'total_amount', u'dropoff_datetime', u'passenger_count',\n",
      "       u'trip_time_in_secs', u'trip_distance', u'pickup_longitude',\n",
      "       u'pickup_latitude', u'dropoff_longitude', u'dropoff_latitude',\n",
      "       u'tip_frac', u'pickup_zone', u'dropoff_zone', u'prev_dropoff_zone',\n",
      "       u'time_since_prev_fare', u'day_of_week', u'pickup_hour', u'pickDrop'],\n",
      "      dtype='object')\n",
      "Index([u'pickup_zone', u'dropoff_zone', u'euclid_distance', u'pickDrop'], dtype='object')\n",
      "[ 3.31  3.49  2.67  3.    2.89]\n",
      "[(0, 0) (0, 88) (0, 89) (0, 126) (0, 129)]\n"
     ]
    }
   ],
   "source": [
    "print taxi_pd.columns\n",
    "print euclid_dist_matrix_pd.columns\n",
    "print euclid_dist_matrix_pd.euclid_distance.values[:5]\n",
    "print euclid_dist_matrix_pd.pickDrop.values[:5]"
   ]
  },
  {
   "cell_type": "code",
   "execution_count": 21,
   "metadata": {
    "collapsed": false
   },
   "outputs": [
    {
     "data": {
      "text/html": [
       "<div>\n",
       "<table border=\"1\" class=\"dataframe\">\n",
       "  <thead>\n",
       "    <tr style=\"text-align: right;\">\n",
       "      <th></th>\n",
       "      <th>euclid_distance</th>\n",
       "      <th>pickDrop</th>\n",
       "    </tr>\n",
       "  </thead>\n",
       "  <tbody>\n",
       "    <tr>\n",
       "      <th>0</th>\n",
       "      <td>3.31</td>\n",
       "      <td>(0, 0)</td>\n",
       "    </tr>\n",
       "    <tr>\n",
       "      <th>1</th>\n",
       "      <td>3.49</td>\n",
       "      <td>(0, 88)</td>\n",
       "    </tr>\n",
       "    <tr>\n",
       "      <th>2</th>\n",
       "      <td>2.67</td>\n",
       "      <td>(0, 89)</td>\n",
       "    </tr>\n",
       "    <tr>\n",
       "      <th>3</th>\n",
       "      <td>3.00</td>\n",
       "      <td>(0, 126)</td>\n",
       "    </tr>\n",
       "    <tr>\n",
       "      <th>4</th>\n",
       "      <td>2.89</td>\n",
       "      <td>(0, 129)</td>\n",
       "    </tr>\n",
       "    <tr>\n",
       "      <th>5</th>\n",
       "      <td>3.14</td>\n",
       "      <td>(0, 131)</td>\n",
       "    </tr>\n",
       "  </tbody>\n",
       "</table>\n",
       "</div>"
      ],
      "text/plain": [
       "   euclid_distance  pickDrop\n",
       "0             3.31    (0, 0)\n",
       "1             3.49   (0, 88)\n",
       "2             2.67   (0, 89)\n",
       "3             3.00  (0, 126)\n",
       "4             2.89  (0, 129)\n",
       "5             3.14  (0, 131)"
      ]
     },
     "execution_count": 21,
     "metadata": {},
     "output_type": "execute_result"
    }
   ],
   "source": [
    "euclid_dist_matrix_pd.loc[:5,['euclid_distance', 'pickDrop']]"
   ]
  },
  {
   "cell_type": "code",
   "execution_count": 22,
   "metadata": {
    "collapsed": false
   },
   "outputs": [
    {
     "data": {
      "text/html": [
       "<div>\n",
       "<table border=\"1\" class=\"dataframe\">\n",
       "  <thead>\n",
       "    <tr style=\"text-align: right;\">\n",
       "      <th></th>\n",
       "      <th>Unnamed: 0</th>\n",
       "      <th>hack_license</th>\n",
       "      <th>pickup_datetime</th>\n",
       "      <th>fare_amount</th>\n",
       "      <th>tip_amount</th>\n",
       "      <th>total_amount</th>\n",
       "      <th>dropoff_datetime</th>\n",
       "      <th>passenger_count</th>\n",
       "      <th>trip_time_in_secs</th>\n",
       "      <th>trip_distance</th>\n",
       "      <th>...</th>\n",
       "      <th>dropoff_latitude</th>\n",
       "      <th>tip_frac</th>\n",
       "      <th>pickup_zone</th>\n",
       "      <th>dropoff_zone</th>\n",
       "      <th>prev_dropoff_zone</th>\n",
       "      <th>time_since_prev_fare</th>\n",
       "      <th>day_of_week</th>\n",
       "      <th>pickup_hour</th>\n",
       "      <th>pickDrop</th>\n",
       "      <th>euclid_distance</th>\n",
       "    </tr>\n",
       "  </thead>\n",
       "  <tbody>\n",
       "    <tr>\n",
       "      <th>0</th>\n",
       "      <td>13099317</td>\n",
       "      <td>00360896</td>\n",
       "      <td>2013-02-01 02:38:06</td>\n",
       "      <td>5.0</td>\n",
       "      <td>1.8</td>\n",
       "      <td>7.8</td>\n",
       "      <td>2013-02-01 02:40:45</td>\n",
       "      <td>1</td>\n",
       "      <td>158</td>\n",
       "      <td>0.8</td>\n",
       "      <td>...</td>\n",
       "      <td>40.733513</td>\n",
       "      <td>30.000000</td>\n",
       "      <td>647</td>\n",
       "      <td>566</td>\n",
       "      <td>0</td>\n",
       "      <td>2311.0</td>\n",
       "      <td>4</td>\n",
       "      <td>2</td>\n",
       "      <td>(566, 0)</td>\n",
       "      <td>6.80</td>\n",
       "    </tr>\n",
       "    <tr>\n",
       "      <th>1</th>\n",
       "      <td>13219882</td>\n",
       "      <td>00360896</td>\n",
       "      <td>2013-02-01 18:16:35</td>\n",
       "      <td>13.0</td>\n",
       "      <td>1.0</td>\n",
       "      <td>15.5</td>\n",
       "      <td>2013-02-01 18:33:39</td>\n",
       "      <td>1</td>\n",
       "      <td>1023</td>\n",
       "      <td>2.4</td>\n",
       "      <td>...</td>\n",
       "      <td>40.732517</td>\n",
       "      <td>6.896552</td>\n",
       "      <td>687</td>\n",
       "      <td>570</td>\n",
       "      <td>687</td>\n",
       "      <td>54.0</td>\n",
       "      <td>4</td>\n",
       "      <td>18</td>\n",
       "      <td>(570, 687)</td>\n",
       "      <td>1.47</td>\n",
       "    </tr>\n",
       "    <tr>\n",
       "      <th>2</th>\n",
       "      <td>13203318</td>\n",
       "      <td>00360896</td>\n",
       "      <td>2013-02-01 18:57:41</td>\n",
       "      <td>4.5</td>\n",
       "      <td>1.2</td>\n",
       "      <td>7.2</td>\n",
       "      <td>2013-02-01 19:00:51</td>\n",
       "      <td>1</td>\n",
       "      <td>189</td>\n",
       "      <td>0.8</td>\n",
       "      <td>...</td>\n",
       "      <td>40.763752</td>\n",
       "      <td>20.000000</td>\n",
       "      <td>808</td>\n",
       "      <td>810</td>\n",
       "      <td>570</td>\n",
       "      <td>1442.0</td>\n",
       "      <td>4</td>\n",
       "      <td>18</td>\n",
       "      <td>(810, 570)</td>\n",
       "      <td>2.08</td>\n",
       "    </tr>\n",
       "    <tr>\n",
       "      <th>3</th>\n",
       "      <td>13190056</td>\n",
       "      <td>00360896</td>\n",
       "      <td>2013-02-01 19:19:55</td>\n",
       "      <td>30.0</td>\n",
       "      <td>6.5</td>\n",
       "      <td>38.0</td>\n",
       "      <td>2013-02-01 20:00:50</td>\n",
       "      <td>1</td>\n",
       "      <td>2454</td>\n",
       "      <td>6.6</td>\n",
       "      <td>...</td>\n",
       "      <td>40.693241</td>\n",
       "      <td>20.634921</td>\n",
       "      <td>848</td>\n",
       "      <td>0</td>\n",
       "      <td>810</td>\n",
       "      <td>1144.0</td>\n",
       "      <td>4</td>\n",
       "      <td>19</td>\n",
       "      <td>(0, 810)</td>\n",
       "      <td>4.86</td>\n",
       "    </tr>\n",
       "    <tr>\n",
       "      <th>4</th>\n",
       "      <td>13189027</td>\n",
       "      <td>00360896</td>\n",
       "      <td>2013-02-01 20:18:38</td>\n",
       "      <td>7.5</td>\n",
       "      <td>1.7</td>\n",
       "      <td>10.2</td>\n",
       "      <td>2013-02-01 20:28:37</td>\n",
       "      <td>1</td>\n",
       "      <td>599</td>\n",
       "      <td>0.5</td>\n",
       "      <td>...</td>\n",
       "      <td>40.721336</td>\n",
       "      <td>20.000000</td>\n",
       "      <td>527</td>\n",
       "      <td>488</td>\n",
       "      <td>0</td>\n",
       "      <td>1068.0</td>\n",
       "      <td>4</td>\n",
       "      <td>20</td>\n",
       "      <td>(488, 0)</td>\n",
       "      <td>6.02</td>\n",
       "    </tr>\n",
       "  </tbody>\n",
       "</table>\n",
       "<p>5 rows × 23 columns</p>\n",
       "</div>"
      ],
      "text/plain": [
       "   Unnamed: 0 hack_license      pickup_datetime  fare_amount  tip_amount  \\\n",
       "0    13099317     00360896  2013-02-01 02:38:06          5.0         1.8   \n",
       "1    13219882     00360896  2013-02-01 18:16:35         13.0         1.0   \n",
       "2    13203318     00360896  2013-02-01 18:57:41          4.5         1.2   \n",
       "3    13190056     00360896  2013-02-01 19:19:55         30.0         6.5   \n",
       "4    13189027     00360896  2013-02-01 20:18:38          7.5         1.7   \n",
       "\n",
       "   total_amount     dropoff_datetime  passenger_count  trip_time_in_secs  \\\n",
       "0           7.8  2013-02-01 02:40:45                1                158   \n",
       "1          15.5  2013-02-01 18:33:39                1               1023   \n",
       "2           7.2  2013-02-01 19:00:51                1                189   \n",
       "3          38.0  2013-02-01 20:00:50                1               2454   \n",
       "4          10.2  2013-02-01 20:28:37                1                599   \n",
       "\n",
       "   trip_distance       ...         dropoff_latitude   tip_frac  pickup_zone  \\\n",
       "0            0.8       ...                40.733513  30.000000          647   \n",
       "1            2.4       ...                40.732517   6.896552          687   \n",
       "2            0.8       ...                40.763752  20.000000          808   \n",
       "3            6.6       ...                40.693241  20.634921          848   \n",
       "4            0.5       ...                40.721336  20.000000          527   \n",
       "\n",
       "   dropoff_zone  prev_dropoff_zone  time_since_prev_fare  day_of_week  \\\n",
       "0           566                  0                2311.0            4   \n",
       "1           570                687                  54.0            4   \n",
       "2           810                570                1442.0            4   \n",
       "3             0                810                1144.0            4   \n",
       "4           488                  0                1068.0            4   \n",
       "\n",
       "   pickup_hour    pickDrop  euclid_distance  \n",
       "0            2    (566, 0)             6.80  \n",
       "1           18  (570, 687)             1.47  \n",
       "2           18  (810, 570)             2.08  \n",
       "3           19    (0, 810)             4.86  \n",
       "4           20    (488, 0)             6.02  \n",
       "\n",
       "[5 rows x 23 columns]"
      ]
     },
     "execution_count": 22,
     "metadata": {},
     "output_type": "execute_result"
    }
   ],
   "source": [
    "taxi_pd = pd.merge(taxi_pd, euclid_dist_matrix_pd.loc[:,['euclid_distance', 'pickDrop']], how='left',\n",
    "                   left_on = 'pickDrop', right_on = 'pickDrop')\n",
    "taxi_pd.head()"
   ]
  },
  {
   "cell_type": "code",
   "execution_count": 23,
   "metadata": {
    "collapsed": false
   },
   "outputs": [
    {
     "data": {
      "text/plain": [
       "Index([u'Unnamed: 0', u'hack_license', u'pickup_datetime', u'fare_amount',\n",
       "       u'tip_amount', u'total_amount', u'dropoff_datetime', u'passenger_count',\n",
       "       u'trip_time_in_secs', u'trip_distance', u'pickup_longitude',\n",
       "       u'pickup_latitude', u'dropoff_longitude', u'dropoff_latitude',\n",
       "       u'tip_frac', u'pickup_zone', u'dropoff_zone', u'prev_dropoff_zone',\n",
       "       u'time_since_prev_fare', u'day_of_week', u'pickup_hour', u'pickDrop',\n",
       "       u'euclid_distance'],\n",
       "      dtype='object')"
      ]
     },
     "execution_count": 23,
     "metadata": {},
     "output_type": "execute_result"
    }
   ],
   "source": [
    "taxi_pd.columns"
   ]
  },
  {
   "cell_type": "code",
   "execution_count": null,
   "metadata": {
    "collapsed": true
   },
   "outputs": [],
   "source": []
  },
  {
   "cell_type": "code",
   "execution_count": null,
   "metadata": {
    "collapsed": true
   },
   "outputs": [],
   "source": [
    "taxi_pd.drop(['Unnamed: 0','pickup_datetime','dropoff_datetime', \n",
    "              'pickup_longitude', 'pickup_latitude', \n",
    "              'dropoff_longitude', 'dropoff_latitude', 'prev_dropoff_zone'],axis=1,inplace=True)"
   ]
  },
  {
   "cell_type": "code",
   "execution_count": 27,
   "metadata": {
    "collapsed": false
   },
   "outputs": [
    {
     "data": {
      "text/html": [
       "<div>\n",
       "<table border=\"1\" class=\"dataframe\">\n",
       "  <thead>\n",
       "    <tr style=\"text-align: right;\">\n",
       "      <th></th>\n",
       "      <th>hack_license</th>\n",
       "      <th>fare_amount</th>\n",
       "      <th>tip_amount</th>\n",
       "      <th>total_amount</th>\n",
       "      <th>passenger_count</th>\n",
       "      <th>trip_time_in_secs</th>\n",
       "      <th>trip_distance</th>\n",
       "      <th>tip_frac</th>\n",
       "      <th>pickup_zone</th>\n",
       "      <th>dropoff_zone</th>\n",
       "      <th>time_since_prev_fare</th>\n",
       "      <th>day_of_week</th>\n",
       "      <th>pickup_hour</th>\n",
       "      <th>pickDrop</th>\n",
       "      <th>euclid_distance</th>\n",
       "    </tr>\n",
       "  </thead>\n",
       "  <tbody>\n",
       "    <tr>\n",
       "      <th>0</th>\n",
       "      <td>00360896</td>\n",
       "      <td>5.0</td>\n",
       "      <td>1.8</td>\n",
       "      <td>7.8</td>\n",
       "      <td>1</td>\n",
       "      <td>158</td>\n",
       "      <td>0.8</td>\n",
       "      <td>30.000000</td>\n",
       "      <td>647</td>\n",
       "      <td>566</td>\n",
       "      <td>2311.0</td>\n",
       "      <td>4</td>\n",
       "      <td>2</td>\n",
       "      <td>(566, 0)</td>\n",
       "      <td>6.80</td>\n",
       "    </tr>\n",
       "    <tr>\n",
       "      <th>1</th>\n",
       "      <td>00360896</td>\n",
       "      <td>13.0</td>\n",
       "      <td>1.0</td>\n",
       "      <td>15.5</td>\n",
       "      <td>1</td>\n",
       "      <td>1023</td>\n",
       "      <td>2.4</td>\n",
       "      <td>6.896552</td>\n",
       "      <td>687</td>\n",
       "      <td>570</td>\n",
       "      <td>54.0</td>\n",
       "      <td>4</td>\n",
       "      <td>18</td>\n",
       "      <td>(570, 687)</td>\n",
       "      <td>1.47</td>\n",
       "    </tr>\n",
       "    <tr>\n",
       "      <th>2</th>\n",
       "      <td>00360896</td>\n",
       "      <td>4.5</td>\n",
       "      <td>1.2</td>\n",
       "      <td>7.2</td>\n",
       "      <td>1</td>\n",
       "      <td>189</td>\n",
       "      <td>0.8</td>\n",
       "      <td>20.000000</td>\n",
       "      <td>808</td>\n",
       "      <td>810</td>\n",
       "      <td>1442.0</td>\n",
       "      <td>4</td>\n",
       "      <td>18</td>\n",
       "      <td>(810, 570)</td>\n",
       "      <td>2.08</td>\n",
       "    </tr>\n",
       "    <tr>\n",
       "      <th>3</th>\n",
       "      <td>00360896</td>\n",
       "      <td>30.0</td>\n",
       "      <td>6.5</td>\n",
       "      <td>38.0</td>\n",
       "      <td>1</td>\n",
       "      <td>2454</td>\n",
       "      <td>6.6</td>\n",
       "      <td>20.634921</td>\n",
       "      <td>848</td>\n",
       "      <td>0</td>\n",
       "      <td>1144.0</td>\n",
       "      <td>4</td>\n",
       "      <td>19</td>\n",
       "      <td>(0, 810)</td>\n",
       "      <td>4.86</td>\n",
       "    </tr>\n",
       "    <tr>\n",
       "      <th>4</th>\n",
       "      <td>00360896</td>\n",
       "      <td>7.5</td>\n",
       "      <td>1.7</td>\n",
       "      <td>10.2</td>\n",
       "      <td>1</td>\n",
       "      <td>599</td>\n",
       "      <td>0.5</td>\n",
       "      <td>20.000000</td>\n",
       "      <td>527</td>\n",
       "      <td>488</td>\n",
       "      <td>1068.0</td>\n",
       "      <td>4</td>\n",
       "      <td>20</td>\n",
       "      <td>(488, 0)</td>\n",
       "      <td>6.02</td>\n",
       "    </tr>\n",
       "  </tbody>\n",
       "</table>\n",
       "</div>"
      ],
      "text/plain": [
       "  hack_license  fare_amount  tip_amount  total_amount  passenger_count  \\\n",
       "0     00360896          5.0         1.8           7.8                1   \n",
       "1     00360896         13.0         1.0          15.5                1   \n",
       "2     00360896          4.5         1.2           7.2                1   \n",
       "3     00360896         30.0         6.5          38.0                1   \n",
       "4     00360896          7.5         1.7          10.2                1   \n",
       "\n",
       "   trip_time_in_secs  trip_distance   tip_frac  pickup_zone  dropoff_zone  \\\n",
       "0                158            0.8  30.000000          647           566   \n",
       "1               1023            2.4   6.896552          687           570   \n",
       "2                189            0.8  20.000000          808           810   \n",
       "3               2454            6.6  20.634921          848             0   \n",
       "4                599            0.5  20.000000          527           488   \n",
       "\n",
       "   time_since_prev_fare  day_of_week  pickup_hour    pickDrop  euclid_distance  \n",
       "0                2311.0            4            2    (566, 0)             6.80  \n",
       "1                  54.0            4           18  (570, 687)             1.47  \n",
       "2                1442.0            4           18  (810, 570)             2.08  \n",
       "3                1144.0            4           19    (0, 810)             4.86  \n",
       "4                1068.0            4           20    (488, 0)             6.02  "
      ]
     },
     "execution_count": 27,
     "metadata": {},
     "output_type": "execute_result"
    }
   ],
   "source": [
    "taxi_pd.head()"
   ]
  },
  {
   "cell_type": "code",
   "execution_count": 26,
   "metadata": {
    "collapsed": false
   },
   "outputs": [],
   "source": [
    "taxi_pd.to_csv('../data/taxi_short_zoned_minuted_2.csv')"
   ]
  },
  {
   "cell_type": "code",
   "execution_count": null,
   "metadata": {
    "collapsed": true
   },
   "outputs": [],
   "source": []
  },
  {
   "cell_type": "markdown",
   "metadata": {},
   "source": [
    "### Calculate Performance Measures"
   ]
  },
  {
   "cell_type": "code",
   "execution_count": 28,
   "metadata": {
    "collapsed": false
   },
   "outputs": [],
   "source": [
    "#calculate some performance stats for each driver\n",
    "perf_pd = pd.DataFrame([])\n",
    "perf_pd['hack_license'] = taxi_pd.hack_license.unique()\n",
    "perf_pd['total_time_on_shift'] = taxi_pd.groupby('hack_license').trip_time_in_secs.sum().values + \\\n",
    "                                 taxi_pd.groupby('hack_license').time_since_prev_fare.sum().values\n",
    "perf_pd['total_dist_on_shift'] = taxi_pd.groupby('hack_license').trip_distance.sum().values + \\\n",
    "                                 taxi_pd.groupby('hack_license').euclid_distance.sum().values\n",
    "perf_pd['avg_speed_mph'] = perf_pd.total_dist_on_shift / (perf_pd.total_time_on_shift / 3600.)\n",
    "perf_pd['total_fare'] = taxi_pd.groupby('hack_license').fare_amount.sum().values\n",
    "perf_pd['total_tip'] = taxi_pd.groupby('hack_license').tip_amount.sum().values\n",
    "perf_pd['total_total'] = taxi_pd.groupby('hack_license').total_amount.sum().values\n",
    "perf_pd['fare_per_hour'] = perf_pd.total_fare / (perf_pd.total_time_on_shift / 3600.)\n",
    "perf_pd['tip_per_hour'] = perf_pd.total_tip / (perf_pd.total_time_on_shift / 3600.)\n",
    "perf_pd['dollars_per_hour'] = perf_pd.fare_per_hour + perf_pd.tip_per_hour\n",
    "perf_pd['dollars_per_mile'] = (perf_pd.total_fare + perf_pd.total_tip) / perf_pd.total_dist_on_shift\n",
    "\n",
    "miles_per_gallon = 15.\n",
    "dollars_per_gallon = 2.5\n",
    "dollars_per_mile = dollars_per_gallon / miles_per_gallon\n",
    "\n",
    "perf_pd['net_dollars_per_hour'] = perf_pd.dollars_per_hour - dollars_per_mile*perf_pd.avg_speed_mph"
   ]
  },
  {
   "cell_type": "markdown",
   "metadata": {},
   "source": [
    "### Label drivers based on performance"
   ]
  },
  {
   "cell_type": "code",
   "execution_count": 29,
   "metadata": {
    "collapsed": true
   },
   "outputs": [],
   "source": [
    "net_dollars_per_hour_bot = np.percentile(perf_pd.net_dollars_per_hour, 5)\n",
    "net_dollars_per_hour_top = np.percentile(perf_pd.net_dollars_per_hour, 95)\n",
    "\n",
    "def performance(net_dollars_per_hour):\n",
    "    return 1 * (net_dollars_per_hour >= net_dollars_per_hour_top) + \\\n",
    "          -1 * (net_dollars_per_hour <= net_dollars_per_hour_bot)\n",
    "\n",
    "perf_pd['performance'] = perf_pd.net_dollars_per_hour.apply(performance)"
   ]
  },
  {
   "cell_type": "code",
   "execution_count": 33,
   "metadata": {
    "collapsed": false
   },
   "outputs": [
    {
     "data": {
      "image/png": "[encoded data removed]",
      "text/plain": [
       "<matplotlib.figure.Figure at 0x12d06e550>"
      ]
     },
     "metadata": {},
     "output_type": "display_data"
    }
   ],
   "source": [
    "plt.figure(figsize=(1.5*8, 1.5*4.95))\n",
    "plt.rcParams.update({'font.size': 24})\n",
    "plt.hist(perf_pd.net_dollars_per_hour, \n",
    "         range=(np.around(net_dollars_per_hour_bot),np.around(net_dollars_per_hour_top)), \n",
    "     bins=2*(np.around(net_dollars_per_hour_top)-np.around(net_dollars_per_hour_bot)), alpha=0.4, color='g')\n",
    "plt.hist(perf_pd.net_dollars_per_hour, range=(np.around(net_dollars_per_hour_top),50),\n",
    "     bins=2*(50 - np.around(net_dollars_per_hour_top)), alpha=0.7, label='good hacks', color='r')\n",
    "plt.hist(perf_pd.net_dollars_per_hour, range=(5,np.around(net_dollars_per_hour_bot)),\n",
    "     bins=2*(np.around(net_dollars_per_hour_bot) - 5), alpha=0.7, label='bad hacks', color='b')\n",
    "plt.legend(frameon=False)\n",
    "plt.xlabel('net dollars per hour')\n",
    "plt.ylabel('number of hacks')\n",
    "# savefig('figures/hack_performance.png')\n",
    "plt.show()"
   ]
  },
  {
   "cell_type": "code",
   "execution_count": 34,
   "metadata": {
    "collapsed": false
   },
   "outputs": [
    {
     "data": {
      "text/html": [
       "<div>\n",
       "<table border=\"1\" class=\"dataframe\">\n",
       "  <thead>\n",
       "    <tr style=\"text-align: right;\">\n",
       "      <th></th>\n",
       "      <th>hack_license</th>\n",
       "      <th>total_time_on_shift</th>\n",
       "      <th>total_dist_on_shift</th>\n",
       "      <th>avg_speed_mph</th>\n",
       "      <th>total_fare</th>\n",
       "      <th>total_tip</th>\n",
       "      <th>total_total</th>\n",
       "      <th>fare_per_hour</th>\n",
       "      <th>tip_per_hour</th>\n",
       "      <th>dollars_per_hour</th>\n",
       "      <th>dollars_per_mile</th>\n",
       "      <th>net_dollars_per_hour</th>\n",
       "      <th>performance</th>\n",
       "    </tr>\n",
       "  </thead>\n",
       "  <tbody>\n",
       "    <tr>\n",
       "      <th>0</th>\n",
       "      <td>00360896</td>\n",
       "      <td>739978.0</td>\n",
       "      <td>1842.56</td>\n",
       "      <td>8.964072</td>\n",
       "      <td>3683.5</td>\n",
       "      <td>764.45</td>\n",
       "      <td>4787.15</td>\n",
       "      <td>17.920262</td>\n",
       "      <td>3.719057</td>\n",
       "      <td>21.639319</td>\n",
       "      <td>2.414006</td>\n",
       "      <td>20.145307</td>\n",
       "      <td>0</td>\n",
       "    </tr>\n",
       "    <tr>\n",
       "      <th>1</th>\n",
       "      <td>005195D2</td>\n",
       "      <td>837446.0</td>\n",
       "      <td>1879.25</td>\n",
       "      <td>8.078491</td>\n",
       "      <td>3739.5</td>\n",
       "      <td>741.72</td>\n",
       "      <td>4826.62</td>\n",
       "      <td>16.075305</td>\n",
       "      <td>3.188495</td>\n",
       "      <td>19.263800</td>\n",
       "      <td>2.384579</td>\n",
       "      <td>17.917385</td>\n",
       "      <td>0</td>\n",
       "    </tr>\n",
       "    <tr>\n",
       "      <th>2</th>\n",
       "      <td>006FAD57</td>\n",
       "      <td>733260.0</td>\n",
       "      <td>1773.76</td>\n",
       "      <td>8.708420</td>\n",
       "      <td>3780.0</td>\n",
       "      <td>763.80</td>\n",
       "      <td>4959.80</td>\n",
       "      <td>18.558219</td>\n",
       "      <td>3.749939</td>\n",
       "      <td>22.308158</td>\n",
       "      <td>2.561677</td>\n",
       "      <td>20.856755</td>\n",
       "      <td>0</td>\n",
       "    </tr>\n",
       "    <tr>\n",
       "      <th>3</th>\n",
       "      <td>00711D0C</td>\n",
       "      <td>570240.0</td>\n",
       "      <td>1795.82</td>\n",
       "      <td>11.337247</td>\n",
       "      <td>3675.0</td>\n",
       "      <td>713.11</td>\n",
       "      <td>4747.36</td>\n",
       "      <td>23.200758</td>\n",
       "      <td>4.501957</td>\n",
       "      <td>27.702715</td>\n",
       "      <td>2.443513</td>\n",
       "      <td>25.813173</td>\n",
       "      <td>1</td>\n",
       "    </tr>\n",
       "    <tr>\n",
       "      <th>4</th>\n",
       "      <td>00759C8E</td>\n",
       "      <td>852720.0</td>\n",
       "      <td>1498.54</td>\n",
       "      <td>6.326513</td>\n",
       "      <td>3594.0</td>\n",
       "      <td>692.15</td>\n",
       "      <td>4503.95</td>\n",
       "      <td>15.173093</td>\n",
       "      <td>2.922108</td>\n",
       "      <td>18.095201</td>\n",
       "      <td>2.860217</td>\n",
       "      <td>17.040782</td>\n",
       "      <td>0</td>\n",
       "    </tr>\n",
       "  </tbody>\n",
       "</table>\n",
       "</div>"
      ],
      "text/plain": [
       "  hack_license  total_time_on_shift  total_dist_on_shift  avg_speed_mph  \\\n",
       "0     00360896             739978.0              1842.56       8.964072   \n",
       "1     005195D2             837446.0              1879.25       8.078491   \n",
       "2     006FAD57             733260.0              1773.76       8.708420   \n",
       "3     00711D0C             570240.0              1795.82      11.337247   \n",
       "4     00759C8E             852720.0              1498.54       6.326513   \n",
       "\n",
       "   total_fare  total_tip  total_total  fare_per_hour  tip_per_hour  \\\n",
       "0      3683.5     764.45      4787.15      17.920262      3.719057   \n",
       "1      3739.5     741.72      4826.62      16.075305      3.188495   \n",
       "2      3780.0     763.80      4959.80      18.558219      3.749939   \n",
       "3      3675.0     713.11      4747.36      23.200758      4.501957   \n",
       "4      3594.0     692.15      4503.95      15.173093      2.922108   \n",
       "\n",
       "   dollars_per_hour  dollars_per_mile  net_dollars_per_hour  performance  \n",
       "0         21.639319          2.414006             20.145307            0  \n",
       "1         19.263800          2.384579             17.917385            0  \n",
       "2         22.308158          2.561677             20.856755            0  \n",
       "3         27.702715          2.443513             25.813173            1  \n",
       "4         18.095201          2.860217             17.040782            0  "
      ]
     },
     "execution_count": 34,
     "metadata": {},
     "output_type": "execute_result"
    }
   ],
   "source": [
    "perf_pd.head()"
   ]
  },
  {
   "cell_type": "code",
   "execution_count": 35,
   "metadata": {
    "collapsed": false
   },
   "outputs": [
    {
     "data": {
      "text/html": [
       "<div>\n",
       "<table border=\"1\" class=\"dataframe\">\n",
       "  <thead>\n",
       "    <tr style=\"text-align: right;\">\n",
       "      <th></th>\n",
       "      <th>hack_license</th>\n",
       "      <th>performance</th>\n",
       "    </tr>\n",
       "  </thead>\n",
       "  <tbody>\n",
       "    <tr>\n",
       "      <th>0</th>\n",
       "      <td>00360896</td>\n",
       "      <td>0</td>\n",
       "    </tr>\n",
       "    <tr>\n",
       "      <th>1</th>\n",
       "      <td>005195D2</td>\n",
       "      <td>0</td>\n",
       "    </tr>\n",
       "    <tr>\n",
       "      <th>2</th>\n",
       "      <td>006FAD57</td>\n",
       "      <td>0</td>\n",
       "    </tr>\n",
       "    <tr>\n",
       "      <th>3</th>\n",
       "      <td>00711D0C</td>\n",
       "      <td>1</td>\n",
       "    </tr>\n",
       "    <tr>\n",
       "      <th>4</th>\n",
       "      <td>00759C8E</td>\n",
       "      <td>0</td>\n",
       "    </tr>\n",
       "  </tbody>\n",
       "</table>\n",
       "</div>"
      ],
      "text/plain": [
       "  hack_license  performance\n",
       "0     00360896            0\n",
       "1     005195D2            0\n",
       "2     006FAD57            0\n",
       "3     00711D0C            1\n",
       "4     00759C8E            0"
      ]
     },
     "execution_count": 35,
     "metadata": {},
     "output_type": "execute_result"
    }
   ],
   "source": [
    "#make dataframe of hack vs. performance tag\n",
    "hack_perf_pd = pd.DataFrame([])\n",
    "hack_perf_pd['hack_license'] = perf_pd.hack_license\n",
    "hack_perf_pd['performance'] = perf_pd.performance\n",
    "hack_perf_pd.head()"
   ]
  },
  {
   "cell_type": "markdown",
   "metadata": {},
   "source": [
    "### Bin Time Information"
   ]
  },
  {
   "cell_type": "code",
   "execution_count": 37,
   "metadata": {
    "collapsed": false
   },
   "outputs": [],
   "source": [
    "taxi_pd['day_of_week_binned'] = 1 + (taxi_pd.day_of_week.values >= 4)\n",
    "taxi_pd['pickup_hour_binned'] = np.floor(taxi_pd.pickup_hour.values / 2).astype(int)\n",
    "taxi_pd['pickup_day_hour_binned'] = zip(taxi_pd.day_of_week_binned, taxi_pd.pickup_hour_binned)\n",
    "taxi_pd['pickup_zone_time'] = zip(taxi_pd.pickup_zone, taxi_pd.pickup_day_hour_binned)"
   ]
  },
  {
   "cell_type": "code",
   "execution_count": 39,
   "metadata": {
    "collapsed": false
   },
   "outputs": [
    {
     "data": {
      "text/html": [
       "<div>\n",
       "<table border=\"1\" class=\"dataframe\">\n",
       "  <thead>\n",
       "    <tr style=\"text-align: right;\">\n",
       "      <th></th>\n",
       "      <th>hack_license</th>\n",
       "      <th>fare_amount</th>\n",
       "      <th>tip_amount</th>\n",
       "      <th>total_amount</th>\n",
       "      <th>passenger_count</th>\n",
       "      <th>trip_time_in_secs</th>\n",
       "      <th>trip_distance</th>\n",
       "      <th>tip_frac</th>\n",
       "      <th>pickup_zone</th>\n",
       "      <th>dropoff_zone</th>\n",
       "      <th>time_since_prev_fare</th>\n",
       "      <th>day_of_week</th>\n",
       "      <th>pickup_hour</th>\n",
       "      <th>pickDrop</th>\n",
       "      <th>euclid_distance</th>\n",
       "      <th>day_of_week_binned</th>\n",
       "      <th>pickup_hour_binned</th>\n",
       "      <th>pickup_day_hour_binned</th>\n",
       "      <th>pickup_zone_time</th>\n",
       "    </tr>\n",
       "  </thead>\n",
       "  <tbody>\n",
       "    <tr>\n",
       "      <th>0</th>\n",
       "      <td>00360896</td>\n",
       "      <td>5.0</td>\n",
       "      <td>1.8</td>\n",
       "      <td>7.8</td>\n",
       "      <td>1</td>\n",
       "      <td>158</td>\n",
       "      <td>0.8</td>\n",
       "      <td>30.000000</td>\n",
       "      <td>647</td>\n",
       "      <td>566</td>\n",
       "      <td>2311.0</td>\n",
       "      <td>4</td>\n",
       "      <td>2</td>\n",
       "      <td>(566, 0)</td>\n",
       "      <td>6.80</td>\n",
       "      <td>2</td>\n",
       "      <td>1</td>\n",
       "      <td>(2, 1)</td>\n",
       "      <td>(647, (2, 1))</td>\n",
       "    </tr>\n",
       "    <tr>\n",
       "      <th>1</th>\n",
       "      <td>00360896</td>\n",
       "      <td>13.0</td>\n",
       "      <td>1.0</td>\n",
       "      <td>15.5</td>\n",
       "      <td>1</td>\n",
       "      <td>1023</td>\n",
       "      <td>2.4</td>\n",
       "      <td>6.896552</td>\n",
       "      <td>687</td>\n",
       "      <td>570</td>\n",
       "      <td>54.0</td>\n",
       "      <td>4</td>\n",
       "      <td>18</td>\n",
       "      <td>(570, 687)</td>\n",
       "      <td>1.47</td>\n",
       "      <td>2</td>\n",
       "      <td>9</td>\n",
       "      <td>(2, 9)</td>\n",
       "      <td>(687, (2, 9))</td>\n",
       "    </tr>\n",
       "    <tr>\n",
       "      <th>2</th>\n",
       "      <td>00360896</td>\n",
       "      <td>4.5</td>\n",
       "      <td>1.2</td>\n",
       "      <td>7.2</td>\n",
       "      <td>1</td>\n",
       "      <td>189</td>\n",
       "      <td>0.8</td>\n",
       "      <td>20.000000</td>\n",
       "      <td>808</td>\n",
       "      <td>810</td>\n",
       "      <td>1442.0</td>\n",
       "      <td>4</td>\n",
       "      <td>18</td>\n",
       "      <td>(810, 570)</td>\n",
       "      <td>2.08</td>\n",
       "      <td>2</td>\n",
       "      <td>9</td>\n",
       "      <td>(2, 9)</td>\n",
       "      <td>(808, (2, 9))</td>\n",
       "    </tr>\n",
       "    <tr>\n",
       "      <th>3</th>\n",
       "      <td>00360896</td>\n",
       "      <td>30.0</td>\n",
       "      <td>6.5</td>\n",
       "      <td>38.0</td>\n",
       "      <td>1</td>\n",
       "      <td>2454</td>\n",
       "      <td>6.6</td>\n",
       "      <td>20.634921</td>\n",
       "      <td>848</td>\n",
       "      <td>0</td>\n",
       "      <td>1144.0</td>\n",
       "      <td>4</td>\n",
       "      <td>19</td>\n",
       "      <td>(0, 810)</td>\n",
       "      <td>4.86</td>\n",
       "      <td>2</td>\n",
       "      <td>9</td>\n",
       "      <td>(2, 9)</td>\n",
       "      <td>(848, (2, 9))</td>\n",
       "    </tr>\n",
       "    <tr>\n",
       "      <th>4</th>\n",
       "      <td>00360896</td>\n",
       "      <td>7.5</td>\n",
       "      <td>1.7</td>\n",
       "      <td>10.2</td>\n",
       "      <td>1</td>\n",
       "      <td>599</td>\n",
       "      <td>0.5</td>\n",
       "      <td>20.000000</td>\n",
       "      <td>527</td>\n",
       "      <td>488</td>\n",
       "      <td>1068.0</td>\n",
       "      <td>4</td>\n",
       "      <td>20</td>\n",
       "      <td>(488, 0)</td>\n",
       "      <td>6.02</td>\n",
       "      <td>2</td>\n",
       "      <td>10</td>\n",
       "      <td>(2, 10)</td>\n",
       "      <td>(527, (2, 10))</td>\n",
       "    </tr>\n",
       "  </tbody>\n",
       "</table>\n",
       "</div>"
      ],
      "text/plain": [
       "  hack_license  fare_amount  tip_amount  total_amount  passenger_count  \\\n",
       "0     00360896          5.0         1.8           7.8                1   \n",
       "1     00360896         13.0         1.0          15.5                1   \n",
       "2     00360896          4.5         1.2           7.2                1   \n",
       "3     00360896         30.0         6.5          38.0                1   \n",
       "4     00360896          7.5         1.7          10.2                1   \n",
       "\n",
       "   trip_time_in_secs  trip_distance   tip_frac  pickup_zone  dropoff_zone  \\\n",
       "0                158            0.8  30.000000          647           566   \n",
       "1               1023            2.4   6.896552          687           570   \n",
       "2                189            0.8  20.000000          808           810   \n",
       "3               2454            6.6  20.634921          848             0   \n",
       "4                599            0.5  20.000000          527           488   \n",
       "\n",
       "   time_since_prev_fare  day_of_week  pickup_hour    pickDrop  \\\n",
       "0                2311.0            4            2    (566, 0)   \n",
       "1                  54.0            4           18  (570, 687)   \n",
       "2                1442.0            4           18  (810, 570)   \n",
       "3                1144.0            4           19    (0, 810)   \n",
       "4                1068.0            4           20    (488, 0)   \n",
       "\n",
       "   euclid_distance  day_of_week_binned  pickup_hour_binned  \\\n",
       "0             6.80                   2                   1   \n",
       "1             1.47                   2                   9   \n",
       "2             2.08                   2                   9   \n",
       "3             4.86                   2                   9   \n",
       "4             6.02                   2                  10   \n",
       "\n",
       "  pickup_day_hour_binned pickup_zone_time  \n",
       "0                 (2, 1)    (647, (2, 1))  \n",
       "1                 (2, 9)    (687, (2, 9))  \n",
       "2                 (2, 9)    (808, (2, 9))  \n",
       "3                 (2, 9)    (848, (2, 9))  \n",
       "4                (2, 10)   (527, (2, 10))  "
      ]
     },
     "execution_count": 39,
     "metadata": {},
     "output_type": "execute_result"
    }
   ],
   "source": [
    "taxi_pd.head()"
   ]
  },
  {
   "cell_type": "code",
   "execution_count": 38,
   "metadata": {
    "collapsed": false
   },
   "outputs": [
    {
     "data": {
      "text/html": [
       "<div>\n",
       "<table border=\"1\" class=\"dataframe\">\n",
       "  <thead>\n",
       "    <tr style=\"text-align: right;\">\n",
       "      <th></th>\n",
       "      <th>pickup_zone_time</th>\n",
       "      <th>pickup_zone_time_renamed</th>\n",
       "    </tr>\n",
       "  </thead>\n",
       "  <tbody>\n",
       "    <tr>\n",
       "      <th>0</th>\n",
       "      <td>(0, (1, 0))</td>\n",
       "      <td>0</td>\n",
       "    </tr>\n",
       "    <tr>\n",
       "      <th>1</th>\n",
       "      <td>(0, (1, 1))</td>\n",
       "      <td>1</td>\n",
       "    </tr>\n",
       "    <tr>\n",
       "      <th>2</th>\n",
       "      <td>(0, (1, 2))</td>\n",
       "      <td>2</td>\n",
       "    </tr>\n",
       "    <tr>\n",
       "      <th>3</th>\n",
       "      <td>(0, (1, 3))</td>\n",
       "      <td>3</td>\n",
       "    </tr>\n",
       "    <tr>\n",
       "      <th>4</th>\n",
       "      <td>(0, (1, 4))</td>\n",
       "      <td>4</td>\n",
       "    </tr>\n",
       "  </tbody>\n",
       "</table>\n",
       "</div>"
      ],
      "text/plain": [
       "  pickup_zone_time  pickup_zone_time_renamed\n",
       "0      (0, (1, 0))                         0\n",
       "1      (0, (1, 1))                         1\n",
       "2      (0, (1, 2))                         2\n",
       "3      (0, (1, 3))                         3\n",
       "4      (0, (1, 4))                         4"
      ]
     },
     "execution_count": 38,
     "metadata": {},
     "output_type": "execute_result"
    }
   ],
   "source": [
    "pickup_zonetimes_pd = pd.DataFrame([])\n",
    "pickup_zonetimes_pd['pickup_zone_time'] = np.sort(taxi_pd.pickup_zone_time.unique())\n",
    "pickup_zonetimes_pd['pickup_zone_time_renamed'] = range(len(pickup_zonetimes_pd))\n",
    "\n",
    "pickup_zonetimes_pd.head()"
   ]
  },
  {
   "cell_type": "code",
   "execution_count": null,
   "metadata": {
    "collapsed": true
   },
   "outputs": [],
   "source": [
    "taxi_pd = pd.merge(taxi_pd, pickup_zonetimes_pd, how='left',\n",
    "                            left_on='pickup_zone_time', right_on = 'pickup_zone_time')\n",
    "#taxi_pd = taxi_pd.drop('pickup_zone_time', axis=1)"
   ]
  },
  {
   "cell_type": "code",
   "execution_count": 41,
   "metadata": {
    "collapsed": false
   },
   "outputs": [
    {
     "data": {
      "text/html": [
       "<div>\n",
       "<table border=\"1\" class=\"dataframe\">\n",
       "  <thead>\n",
       "    <tr style=\"text-align: right;\">\n",
       "      <th></th>\n",
       "      <th>hack_license</th>\n",
       "      <th>fare_amount</th>\n",
       "      <th>tip_amount</th>\n",
       "      <th>total_amount</th>\n",
       "      <th>passenger_count</th>\n",
       "      <th>trip_time_in_secs</th>\n",
       "      <th>trip_distance</th>\n",
       "      <th>tip_frac</th>\n",
       "      <th>pickup_zone</th>\n",
       "      <th>dropoff_zone</th>\n",
       "      <th>time_since_prev_fare</th>\n",
       "      <th>day_of_week</th>\n",
       "      <th>pickup_hour</th>\n",
       "      <th>pickDrop</th>\n",
       "      <th>euclid_distance</th>\n",
       "      <th>day_of_week_binned</th>\n",
       "      <th>pickup_hour_binned</th>\n",
       "      <th>pickup_day_hour_binned</th>\n",
       "      <th>pickup_zone_time</th>\n",
       "      <th>pickup_zone_time_renamed</th>\n",
       "    </tr>\n",
       "  </thead>\n",
       "  <tbody>\n",
       "    <tr>\n",
       "      <th>0</th>\n",
       "      <td>00360896</td>\n",
       "      <td>5.0</td>\n",
       "      <td>1.8</td>\n",
       "      <td>7.8</td>\n",
       "      <td>1</td>\n",
       "      <td>158</td>\n",
       "      <td>0.8</td>\n",
       "      <td>30.000000</td>\n",
       "      <td>647</td>\n",
       "      <td>566</td>\n",
       "      <td>2311.0</td>\n",
       "      <td>4</td>\n",
       "      <td>2</td>\n",
       "      <td>(566, 0)</td>\n",
       "      <td>6.80</td>\n",
       "      <td>2</td>\n",
       "      <td>1</td>\n",
       "      <td>(2, 1)</td>\n",
       "      <td>(647, (2, 1))</td>\n",
       "      <td>2396</td>\n",
       "    </tr>\n",
       "    <tr>\n",
       "      <th>1</th>\n",
       "      <td>00360896</td>\n",
       "      <td>13.0</td>\n",
       "      <td>1.0</td>\n",
       "      <td>15.5</td>\n",
       "      <td>1</td>\n",
       "      <td>1023</td>\n",
       "      <td>2.4</td>\n",
       "      <td>6.896552</td>\n",
       "      <td>687</td>\n",
       "      <td>570</td>\n",
       "      <td>54.0</td>\n",
       "      <td>4</td>\n",
       "      <td>18</td>\n",
       "      <td>(570, 687)</td>\n",
       "      <td>1.47</td>\n",
       "      <td>2</td>\n",
       "      <td>9</td>\n",
       "      <td>(2, 9)</td>\n",
       "      <td>(687, (2, 9))</td>\n",
       "      <td>2688</td>\n",
       "    </tr>\n",
       "    <tr>\n",
       "      <th>2</th>\n",
       "      <td>00360896</td>\n",
       "      <td>4.5</td>\n",
       "      <td>1.2</td>\n",
       "      <td>7.2</td>\n",
       "      <td>1</td>\n",
       "      <td>189</td>\n",
       "      <td>0.8</td>\n",
       "      <td>20.000000</td>\n",
       "      <td>808</td>\n",
       "      <td>810</td>\n",
       "      <td>1442.0</td>\n",
       "      <td>4</td>\n",
       "      <td>18</td>\n",
       "      <td>(810, 570)</td>\n",
       "      <td>2.08</td>\n",
       "      <td>2</td>\n",
       "      <td>9</td>\n",
       "      <td>(2, 9)</td>\n",
       "      <td>(808, (2, 9))</td>\n",
       "      <td>3452</td>\n",
       "    </tr>\n",
       "    <tr>\n",
       "      <th>3</th>\n",
       "      <td>00360896</td>\n",
       "      <td>30.0</td>\n",
       "      <td>6.5</td>\n",
       "      <td>38.0</td>\n",
       "      <td>1</td>\n",
       "      <td>2454</td>\n",
       "      <td>6.6</td>\n",
       "      <td>20.634921</td>\n",
       "      <td>848</td>\n",
       "      <td>0</td>\n",
       "      <td>1144.0</td>\n",
       "      <td>4</td>\n",
       "      <td>19</td>\n",
       "      <td>(0, 810)</td>\n",
       "      <td>4.86</td>\n",
       "      <td>2</td>\n",
       "      <td>9</td>\n",
       "      <td>(2, 9)</td>\n",
       "      <td>(848, (2, 9))</td>\n",
       "      <td>3739</td>\n",
       "    </tr>\n",
       "    <tr>\n",
       "      <th>4</th>\n",
       "      <td>00360896</td>\n",
       "      <td>7.5</td>\n",
       "      <td>1.7</td>\n",
       "      <td>10.2</td>\n",
       "      <td>1</td>\n",
       "      <td>599</td>\n",
       "      <td>0.5</td>\n",
       "      <td>20.000000</td>\n",
       "      <td>527</td>\n",
       "      <td>488</td>\n",
       "      <td>1068.0</td>\n",
       "      <td>4</td>\n",
       "      <td>20</td>\n",
       "      <td>(488, 0)</td>\n",
       "      <td>6.02</td>\n",
       "      <td>2</td>\n",
       "      <td>10</td>\n",
       "      <td>(2, 10)</td>\n",
       "      <td>(527, (2, 10))</td>\n",
       "      <td>1810</td>\n",
       "    </tr>\n",
       "  </tbody>\n",
       "</table>\n",
       "</div>"
      ],
      "text/plain": [
       "  hack_license  fare_amount  tip_amount  total_amount  passenger_count  \\\n",
       "0     00360896          5.0         1.8           7.8                1   \n",
       "1     00360896         13.0         1.0          15.5                1   \n",
       "2     00360896          4.5         1.2           7.2                1   \n",
       "3     00360896         30.0         6.5          38.0                1   \n",
       "4     00360896          7.5         1.7          10.2                1   \n",
       "\n",
       "   trip_time_in_secs  trip_distance   tip_frac  pickup_zone  dropoff_zone  \\\n",
       "0                158            0.8  30.000000          647           566   \n",
       "1               1023            2.4   6.896552          687           570   \n",
       "2                189            0.8  20.000000          808           810   \n",
       "3               2454            6.6  20.634921          848             0   \n",
       "4                599            0.5  20.000000          527           488   \n",
       "\n",
       "   time_since_prev_fare  day_of_week  pickup_hour    pickDrop  \\\n",
       "0                2311.0            4            2    (566, 0)   \n",
       "1                  54.0            4           18  (570, 687)   \n",
       "2                1442.0            4           18  (810, 570)   \n",
       "3                1144.0            4           19    (0, 810)   \n",
       "4                1068.0            4           20    (488, 0)   \n",
       "\n",
       "   euclid_distance  day_of_week_binned  pickup_hour_binned  \\\n",
       "0             6.80                   2                   1   \n",
       "1             1.47                   2                   9   \n",
       "2             2.08                   2                   9   \n",
       "3             4.86                   2                   9   \n",
       "4             6.02                   2                  10   \n",
       "\n",
       "  pickup_day_hour_binned pickup_zone_time  pickup_zone_time_renamed  \n",
       "0                 (2, 1)    (647, (2, 1))                      2396  \n",
       "1                 (2, 9)    (687, (2, 9))                      2688  \n",
       "2                 (2, 9)    (808, (2, 9))                      3452  \n",
       "3                 (2, 9)    (848, (2, 9))                      3739  \n",
       "4                (2, 10)   (527, (2, 10))                      1810  "
      ]
     },
     "execution_count": 41,
     "metadata": {},
     "output_type": "execute_result"
    }
   ],
   "source": [
    "taxi_pd.head()"
   ]
  },
  {
   "cell_type": "code",
   "execution_count": null,
   "metadata": {
    "collapsed": true
   },
   "outputs": [],
   "source": []
  },
  {
   "cell_type": "code",
   "execution_count": 42,
   "metadata": {
    "collapsed": false
   },
   "outputs": [
    {
     "data": {
      "text/html": [
       "<div>\n",
       "<table border=\"1\" class=\"dataframe\">\n",
       "  <thead>\n",
       "    <tr style=\"text-align: right;\">\n",
       "      <th></th>\n",
       "      <th>hack_license</th>\n",
       "      <th>fare_amount</th>\n",
       "      <th>tip_amount</th>\n",
       "      <th>total_amount</th>\n",
       "      <th>passenger_count</th>\n",
       "      <th>trip_time_in_secs</th>\n",
       "      <th>trip_distance</th>\n",
       "      <th>tip_frac</th>\n",
       "      <th>pickup_zone</th>\n",
       "      <th>dropoff_zone</th>\n",
       "      <th>...</th>\n",
       "      <th>day_of_week</th>\n",
       "      <th>pickup_hour</th>\n",
       "      <th>pickDrop</th>\n",
       "      <th>euclid_distance</th>\n",
       "      <th>day_of_week_binned</th>\n",
       "      <th>pickup_hour_binned</th>\n",
       "      <th>pickup_day_hour_binned</th>\n",
       "      <th>pickup_zone_time</th>\n",
       "      <th>pickup_zone_time_renamed</th>\n",
       "      <th>performance</th>\n",
       "    </tr>\n",
       "  </thead>\n",
       "  <tbody>\n",
       "    <tr>\n",
       "      <th>0</th>\n",
       "      <td>00360896</td>\n",
       "      <td>5.0</td>\n",
       "      <td>1.8</td>\n",
       "      <td>7.8</td>\n",
       "      <td>1</td>\n",
       "      <td>158</td>\n",
       "      <td>0.8</td>\n",
       "      <td>30.000000</td>\n",
       "      <td>647</td>\n",
       "      <td>566</td>\n",
       "      <td>...</td>\n",
       "      <td>4</td>\n",
       "      <td>2</td>\n",
       "      <td>(566, 0)</td>\n",
       "      <td>6.80</td>\n",
       "      <td>2</td>\n",
       "      <td>1</td>\n",
       "      <td>(2, 1)</td>\n",
       "      <td>(647, (2, 1))</td>\n",
       "      <td>2396</td>\n",
       "      <td>0</td>\n",
       "    </tr>\n",
       "    <tr>\n",
       "      <th>1</th>\n",
       "      <td>00360896</td>\n",
       "      <td>13.0</td>\n",
       "      <td>1.0</td>\n",
       "      <td>15.5</td>\n",
       "      <td>1</td>\n",
       "      <td>1023</td>\n",
       "      <td>2.4</td>\n",
       "      <td>6.896552</td>\n",
       "      <td>687</td>\n",
       "      <td>570</td>\n",
       "      <td>...</td>\n",
       "      <td>4</td>\n",
       "      <td>18</td>\n",
       "      <td>(570, 687)</td>\n",
       "      <td>1.47</td>\n",
       "      <td>2</td>\n",
       "      <td>9</td>\n",
       "      <td>(2, 9)</td>\n",
       "      <td>(687, (2, 9))</td>\n",
       "      <td>2688</td>\n",
       "      <td>0</td>\n",
       "    </tr>\n",
       "    <tr>\n",
       "      <th>2</th>\n",
       "      <td>00360896</td>\n",
       "      <td>4.5</td>\n",
       "      <td>1.2</td>\n",
       "      <td>7.2</td>\n",
       "      <td>1</td>\n",
       "      <td>189</td>\n",
       "      <td>0.8</td>\n",
       "      <td>20.000000</td>\n",
       "      <td>808</td>\n",
       "      <td>810</td>\n",
       "      <td>...</td>\n",
       "      <td>4</td>\n",
       "      <td>18</td>\n",
       "      <td>(810, 570)</td>\n",
       "      <td>2.08</td>\n",
       "      <td>2</td>\n",
       "      <td>9</td>\n",
       "      <td>(2, 9)</td>\n",
       "      <td>(808, (2, 9))</td>\n",
       "      <td>3452</td>\n",
       "      <td>0</td>\n",
       "    </tr>\n",
       "    <tr>\n",
       "      <th>3</th>\n",
       "      <td>00360896</td>\n",
       "      <td>30.0</td>\n",
       "      <td>6.5</td>\n",
       "      <td>38.0</td>\n",
       "      <td>1</td>\n",
       "      <td>2454</td>\n",
       "      <td>6.6</td>\n",
       "      <td>20.634921</td>\n",
       "      <td>848</td>\n",
       "      <td>0</td>\n",
       "      <td>...</td>\n",
       "      <td>4</td>\n",
       "      <td>19</td>\n",
       "      <td>(0, 810)</td>\n",
       "      <td>4.86</td>\n",
       "      <td>2</td>\n",
       "      <td>9</td>\n",
       "      <td>(2, 9)</td>\n",
       "      <td>(848, (2, 9))</td>\n",
       "      <td>3739</td>\n",
       "      <td>0</td>\n",
       "    </tr>\n",
       "    <tr>\n",
       "      <th>4</th>\n",
       "      <td>00360896</td>\n",
       "      <td>7.5</td>\n",
       "      <td>1.7</td>\n",
       "      <td>10.2</td>\n",
       "      <td>1</td>\n",
       "      <td>599</td>\n",
       "      <td>0.5</td>\n",
       "      <td>20.000000</td>\n",
       "      <td>527</td>\n",
       "      <td>488</td>\n",
       "      <td>...</td>\n",
       "      <td>4</td>\n",
       "      <td>20</td>\n",
       "      <td>(488, 0)</td>\n",
       "      <td>6.02</td>\n",
       "      <td>2</td>\n",
       "      <td>10</td>\n",
       "      <td>(2, 10)</td>\n",
       "      <td>(527, (2, 10))</td>\n",
       "      <td>1810</td>\n",
       "      <td>0</td>\n",
       "    </tr>\n",
       "  </tbody>\n",
       "</table>\n",
       "<p>5 rows × 21 columns</p>\n",
       "</div>"
      ],
      "text/plain": [
       "  hack_license  fare_amount  tip_amount  total_amount  passenger_count  \\\n",
       "0     00360896          5.0         1.8           7.8                1   \n",
       "1     00360896         13.0         1.0          15.5                1   \n",
       "2     00360896          4.5         1.2           7.2                1   \n",
       "3     00360896         30.0         6.5          38.0                1   \n",
       "4     00360896          7.5         1.7          10.2                1   \n",
       "\n",
       "   trip_time_in_secs  trip_distance   tip_frac  pickup_zone  dropoff_zone  \\\n",
       "0                158            0.8  30.000000          647           566   \n",
       "1               1023            2.4   6.896552          687           570   \n",
       "2                189            0.8  20.000000          808           810   \n",
       "3               2454            6.6  20.634921          848             0   \n",
       "4                599            0.5  20.000000          527           488   \n",
       "\n",
       "      ...       day_of_week  pickup_hour    pickDrop euclid_distance  \\\n",
       "0     ...                 4            2    (566, 0)            6.80   \n",
       "1     ...                 4           18  (570, 687)            1.47   \n",
       "2     ...                 4           18  (810, 570)            2.08   \n",
       "3     ...                 4           19    (0, 810)            4.86   \n",
       "4     ...                 4           20    (488, 0)            6.02   \n",
       "\n",
       "   day_of_week_binned  pickup_hour_binned  pickup_day_hour_binned  \\\n",
       "0                   2                   1                  (2, 1)   \n",
       "1                   2                   9                  (2, 9)   \n",
       "2                   2                   9                  (2, 9)   \n",
       "3                   2                   9                  (2, 9)   \n",
       "4                   2                  10                 (2, 10)   \n",
       "\n",
       "  pickup_zone_time pickup_zone_time_renamed  performance  \n",
       "0    (647, (2, 1))                     2396            0  \n",
       "1    (687, (2, 9))                     2688            0  \n",
       "2    (808, (2, 9))                     3452            0  \n",
       "3    (848, (2, 9))                     3739            0  \n",
       "4   (527, (2, 10))                     1810            0  \n",
       "\n",
       "[5 rows x 21 columns]"
      ]
     },
     "execution_count": 42,
     "metadata": {},
     "output_type": "execute_result"
    }
   ],
   "source": [
    "taxi_pd = pd.merge(taxi_pd, hack_perf_pd, how='left',\n",
    "                            left_on='hack_license', right_on = 'hack_license')\n",
    "taxi_pd.head()"
   ]
  },
  {
   "cell_type": "code",
   "execution_count": null,
   "metadata": {
    "collapsed": true
   },
   "outputs": [],
   "source": []
  },
  {
   "cell_type": "markdown",
   "metadata": {},
   "source": [
    "## 2. Describe \"right place at the right time\" \n",
    "### Find the time and location of drivers that predict good drivers from bad drivers"
   ]
  },
  {
   "cell_type": "code",
   "execution_count": 43,
   "metadata": {
    "collapsed": true
   },
   "outputs": [],
   "source": [
    "taxi_pd = taxi_pd[taxi_pd.performance != 0]"
   ]
  },
  {
   "cell_type": "code",
   "execution_count": 47,
   "metadata": {
    "collapsed": false
   },
   "outputs": [
    {
     "name": "stdout",
     "output_type": "stream",
     "text": [
      "Number of drivers 548\n",
      "Number of location and time zones 5922\n",
      "3245256\n"
     ]
    }
   ],
   "source": [
    "num_hacks = len(taxi_pd.hack_license.unique())\n",
    "num_zonetimes = len(pickup_zonetimes_pd)\n",
    "print 'Number of drivers', num_hacks\n",
    "print 'Number of location and time zones', num_zonetimes \n",
    "print num_hacks*num_zonetimes"
   ]
  },
  {
   "cell_type": "code",
   "execution_count": 48,
   "metadata": {
    "collapsed": true
   },
   "outputs": [],
   "source": [
    "hack_zonetime_cnt_s = taxi_pd.groupby('hack_license')\\\n",
    "                ['pickup_zone_time_renamed'].apply(lambda x: np.bincount( x.tolist(),minlength=num_zonetimes) )\n",
    "hack_zonetime_cnt_pd = pd.DataFrame([])\n",
    "hack_zonetime_cnt_pd['hack_license'] = hack_zonetime_cnt_s.index.values\n",
    "hack_zonetime_cnt_pd['zonetime_cnt'] = hack_zonetime_cnt_s.values"
   ]
  },
  {
   "cell_type": "code",
   "execution_count": 49,
   "metadata": {
    "collapsed": false
   },
   "outputs": [
    {
     "data": {
      "text/html": [
       "<div>\n",
       "<table border=\"1\" class=\"dataframe\">\n",
       "  <thead>\n",
       "    <tr style=\"text-align: right;\">\n",
       "      <th></th>\n",
       "      <th>hack_license</th>\n",
       "      <th>zonetime_cnt</th>\n",
       "    </tr>\n",
       "  </thead>\n",
       "  <tbody>\n",
       "    <tr>\n",
       "      <th>0</th>\n",
       "      <td>00711D0C</td>\n",
       "      <td>[0, 0, 0, 0, 0, 0, 0, 0, 0, 0, 0, 0, 0, 0, 1, ...</td>\n",
       "    </tr>\n",
       "    <tr>\n",
       "      <th>1</th>\n",
       "      <td>0078BA33</td>\n",
       "      <td>[0, 0, 0, 0, 0, 0, 0, 0, 0, 0, 1, 0, 2, 0, 0, ...</td>\n",
       "    </tr>\n",
       "    <tr>\n",
       "      <th>2</th>\n",
       "      <td>00BCAB54</td>\n",
       "      <td>[0, 0, 0, 0, 0, 0, 0, 0, 0, 1, 1, 0, 0, 0, 0, ...</td>\n",
       "    </tr>\n",
       "    <tr>\n",
       "      <th>3</th>\n",
       "      <td>012F5AA1</td>\n",
       "      <td>[0, 0, 0, 0, 0, 0, 0, 0, 0, 0, 0, 0, 1, 1, 0, ...</td>\n",
       "    </tr>\n",
       "    <tr>\n",
       "      <th>4</th>\n",
       "      <td>016FBB93</td>\n",
       "      <td>[2, 0, 0, 0, 0, 0, 0, 0, 1, 0, 0, 1, 0, 0, 0, ...</td>\n",
       "    </tr>\n",
       "  </tbody>\n",
       "</table>\n",
       "</div>"
      ],
      "text/plain": [
       "  hack_license                                       zonetime_cnt\n",
       "0     00711D0C  [0, 0, 0, 0, 0, 0, 0, 0, 0, 0, 0, 0, 0, 0, 1, ...\n",
       "1     0078BA33  [0, 0, 0, 0, 0, 0, 0, 0, 0, 0, 1, 0, 2, 0, 0, ...\n",
       "2     00BCAB54  [0, 0, 0, 0, 0, 0, 0, 0, 0, 1, 1, 0, 0, 0, 0, ...\n",
       "3     012F5AA1  [0, 0, 0, 0, 0, 0, 0, 0, 0, 0, 0, 0, 1, 1, 0, ...\n",
       "4     016FBB93  [2, 0, 0, 0, 0, 0, 0, 0, 1, 0, 0, 1, 0, 0, 0, ..."
      ]
     },
     "execution_count": 49,
     "metadata": {},
     "output_type": "execute_result"
    }
   ],
   "source": [
    "hack_zonetime_cnt_pd.head()"
   ]
  },
  {
   "cell_type": "code",
   "execution_count": 50,
   "metadata": {
    "collapsed": false
   },
   "outputs": [
    {
     "data": {
      "text/html": [
       "<div>\n",
       "<table border=\"1\" class=\"dataframe\">\n",
       "  <thead>\n",
       "    <tr style=\"text-align: right;\">\n",
       "      <th></th>\n",
       "      <th>hack_license</th>\n",
       "      <th>zonetime_cnt</th>\n",
       "      <th>performance</th>\n",
       "    </tr>\n",
       "  </thead>\n",
       "  <tbody>\n",
       "    <tr>\n",
       "      <th>0</th>\n",
       "      <td>00711D0C</td>\n",
       "      <td>[0, 0, 0, 0, 0, 0, 0, 0, 0, 0, 0, 0, 0, 0, 1, ...</td>\n",
       "      <td>1</td>\n",
       "    </tr>\n",
       "    <tr>\n",
       "      <th>1</th>\n",
       "      <td>0078BA33</td>\n",
       "      <td>[0, 0, 0, 0, 0, 0, 0, 0, 0, 0, 1, 0, 2, 0, 0, ...</td>\n",
       "      <td>1</td>\n",
       "    </tr>\n",
       "    <tr>\n",
       "      <th>2</th>\n",
       "      <td>00BCAB54</td>\n",
       "      <td>[0, 0, 0, 0, 0, 0, 0, 0, 0, 1, 1, 0, 0, 0, 0, ...</td>\n",
       "      <td>-1</td>\n",
       "    </tr>\n",
       "    <tr>\n",
       "      <th>3</th>\n",
       "      <td>012F5AA1</td>\n",
       "      <td>[0, 0, 0, 0, 0, 0, 0, 0, 0, 0, 0, 0, 1, 1, 0, ...</td>\n",
       "      <td>1</td>\n",
       "    </tr>\n",
       "    <tr>\n",
       "      <th>4</th>\n",
       "      <td>016FBB93</td>\n",
       "      <td>[2, 0, 0, 0, 0, 0, 0, 0, 1, 0, 0, 1, 0, 0, 0, ...</td>\n",
       "      <td>1</td>\n",
       "    </tr>\n",
       "  </tbody>\n",
       "</table>\n",
       "</div>"
      ],
      "text/plain": [
       "  hack_license                                       zonetime_cnt  performance\n",
       "0     00711D0C  [0, 0, 0, 0, 0, 0, 0, 0, 0, 0, 0, 0, 0, 0, 1, ...            1\n",
       "1     0078BA33  [0, 0, 0, 0, 0, 0, 0, 0, 0, 0, 1, 0, 2, 0, 0, ...            1\n",
       "2     00BCAB54  [0, 0, 0, 0, 0, 0, 0, 0, 0, 1, 1, 0, 0, 0, 0, ...           -1\n",
       "3     012F5AA1  [0, 0, 0, 0, 0, 0, 0, 0, 0, 0, 0, 0, 1, 1, 0, ...            1\n",
       "4     016FBB93  [2, 0, 0, 0, 0, 0, 0, 0, 1, 0, 0, 1, 0, 0, 0, ...            1"
      ]
     },
     "execution_count": 50,
     "metadata": {},
     "output_type": "execute_result"
    }
   ],
   "source": [
    "hack_zonetime_cnt_perf_pd = pd.merge(hack_zonetime_cnt_pd, hack_perf_pd, how='left',\n",
    "                            left_on='hack_license', right_on = 'hack_license')\n",
    "hack_zonetime_cnt_perf_pd.head()"
   ]
  },
  {
   "cell_type": "markdown",
   "metadata": {},
   "source": [
    "### Prepare training data"
   ]
  },
  {
   "cell_type": "code",
   "execution_count": 54,
   "metadata": {
    "collapsed": true
   },
   "outputs": [],
   "source": [
    "data = np.hstack((hack_zonetime_cnt_perf_pd.zonetime_cnt.values)).reshape(num_hacks, num_zonetimes)"
   ]
  },
  {
   "cell_type": "code",
   "execution_count": 55,
   "metadata": {
    "collapsed": true
   },
   "outputs": [],
   "source": [
    "target = hack_zonetime_cnt_perf_pd.performance.values"
   ]
  },
  {
   "cell_type": "code",
   "execution_count": 58,
   "metadata": {
    "collapsed": false
   },
   "outputs": [
    {
     "name": "stdout",
     "output_type": "stream",
     "text": [
      "First few predictors for 5 samples are :\n",
      "[[0 0 0]\n",
      " [0 0 0]\n",
      " [0 0 0]\n",
      " [0 0 0]\n",
      " [2 0 0]]\n",
      "Target values for the samples are: [ 1  1 -1  1  1]\n"
     ]
    }
   ],
   "source": [
    "print 'First few predictors for 5 samples are :\\n', data[:5,:3]\n",
    "print 'Target values for the samples are:', target[:5]"
   ]
  },
  {
   "cell_type": "markdown",
   "metadata": {},
   "source": [
    "### Predict good drivers"
   ]
  },
  {
   "cell_type": "code",
   "execution_count": 64,
   "metadata": {
    "collapsed": false
   },
   "outputs": [],
   "source": [
    "from sklearn.svm import LinearSVC\n",
    "from sklearn.model_selection import train_test_split"
   ]
  },
  {
   "cell_type": "code",
   "execution_count": 65,
   "metadata": {
    "collapsed": true
   },
   "outputs": [],
   "source": [
    "X_train, X_test, y_train, y_test = train_test_split(data, target, test_size=0.5, random_state=0)"
   ]
  },
  {
   "cell_type": "code",
   "execution_count": 67,
   "metadata": {
    "collapsed": false
   },
   "outputs": [
    {
     "data": {
      "text/plain": [
       "((274, 5922), (274,))"
      ]
     },
     "execution_count": 67,
     "metadata": {},
     "output_type": "execute_result"
    }
   ],
   "source": [
    "X_train.shape, y_train.shape"
   ]
  },
  {
   "cell_type": "code",
   "execution_count": 68,
   "metadata": {
    "collapsed": false
   },
   "outputs": [
    {
     "data": {
      "text/plain": [
       "((274, 5922), (274,))"
      ]
     },
     "execution_count": 68,
     "metadata": {},
     "output_type": "execute_result"
    }
   ],
   "source": [
    "X_test.shape, y_test.shape"
   ]
  },
  {
   "cell_type": "code",
   "execution_count": 69,
   "metadata": {
    "collapsed": true
   },
   "outputs": [],
   "source": [
    "# svm1 = LinearSVC(C=0.06, penalty=\"l1\", dual=False)\n",
    "svm1 = LinearSVC()\n",
    "svm_fit = svm1.fit(X_train, y_train)"
   ]
  },
  {
   "cell_type": "markdown",
   "metadata": {},
   "source": [
    "### Prediction results"
   ]
  },
  {
   "cell_type": "code",
   "execution_count": 70,
   "metadata": {
    "collapsed": false
   },
   "outputs": [
    {
     "name": "stdout",
     "output_type": "stream",
     "text": [
      "Mean accuracy of the given test data : 0.948905109489\n"
     ]
    }
   ],
   "source": [
    "print 'Mean accuracy of the given test data :', svm_fit.score(X_test, y_test)"
   ]
  },
  {
   "cell_type": "markdown",
   "metadata": {},
   "source": [
    "### Time and locations that are optimal could be found using SVM weights"
   ]
  },
  {
   "cell_type": "markdown",
   "metadata": {},
   "source": [
    "## References \n",
    "- [Taxi Strategy Blog](http://nyctaxistrategy.blogspot.com/2015/03/week-0-exploratory-analysis.html)\n",
    "- [GitHub Taxi Strategy](https://github.com/samuelklee/taxi-strategy)\n",
    "- [Deep Yellow](http://deep-yellow.herokuapp.com/)\n",
    "\n",
    "## Data\n",
    "- [NYC Taxi trips](http://www.andresmh.com/nyctaxitrips/)\n",
    "- TLC\n",
    "\n",
    "## Plans\n",
    "- Use of MDPs to find the 2/3 step ahead actions have been done\n",
    "- Planning to use network analysis tools \n",
    "- [Big Fish Project](https://github.com/jArumugam/BigFish)\n",
    "\n",
    "\n",
    "## Why Networks\n",
    "- Uber, Lyft\n",
    "- Twitter, Facebook, Linkedin, Glassdoor\n",
    "- Yelp, Airbnb\n",
    "- Youtube, Media, Blogosphere, Pintrest \n",
    "- Blood, brain, epidemics "
   ]
  },
  {
   "cell_type": "markdown",
   "metadata": {},
   "source": [
    "# Thank You! "
   ]
  }
 ],
 "metadata": {
  "kernelspec": {
   "display_name": "Python 2",
   "language": "python",
   "name": "python2"
  },
  "language_info": {
   "codemirror_mode": {
    "name": "ipython",
    "version": 2
   },
   "file_extension": ".py",
   "mimetype": "text/x-python",
   "name": "python",
   "nbconvert_exporter": "python",
   "pygments_lexer": "ipython2",
   "version": "2.7.13"
  }
 },
 "nbformat": 4,
 "nbformat_minor": 2
}
