{
 "cells": [
  {
   "cell_type": "markdown",
   "metadata": {},
   "source": [
    "## Objective\n",
    "To quantify graph properties in the data\n",
    "\n",
    "### Data Source\n",
    "1. [NYC TLC](http://www.nyc.gov/html/tlc/html/about/trip_record_data.shtml)\n",
    "    - Yellow 2016 December\n",
    "    \n",
    "```\n",
    "$ head yellow_tripdata_2016-12.csv\n",
    "$ wc -l yellow_tripdata_2016-12.csv\n",
    "$ cut -d , -f 8,9 yellow_tripdata_2016-12.csv > yellow_PUL_DOL_Graph.txt \n",
    "$ cat yellow_PUL_DOL_Graph.txt | sed \"1 d\" > yellow_PUL_DOL_Graph_nohead.txt \n",
    "$ rm yellow_PUL_DOL_Graph.txt\n",
    "$ tr \",\" \"\\t\" < yellow_PUL_DOL_Graph_nohead.txt > yellow_PUL_DOL_Graph.txt\n",
    "```\n",
    "\n",
    "- There are 10 million lines in the data file\n",
    "- Shorten! "
   ]
  },
  {
   "cell_type": "code",
   "execution_count": 1,
   "metadata": {
    "collapsed": true
   },
   "outputs": [],
   "source": [
    "import pandas as pd\n",
    "\n",
    "import matplotlib.pyplot as plt\n",
    "%matplotlib inline\n",
    "plt.rcParams[\"figure.figsize\"] = (10,10)\n",
    "import seaborn as sns"
   ]
  },
  {
   "cell_type": "code",
   "execution_count": 2,
   "metadata": {
    "collapsed": true
   },
   "outputs": [],
   "source": [
    "import snap\n",
    "import os\n",
    "import sys"
   ]
  },
  {
   "cell_type": "markdown",
   "metadata": {},
   "source": [
    "### Create directed graph"
   ]
  },
  {
   "cell_type": "code",
   "execution_count": 3,
   "metadata": {
    "collapsed": true
   },
   "outputs": [],
   "source": [
    "fname = \"yellow_PUL_DOL_Graph.txt\"\n",
    "col1 = 1 - 1\n",
    "col2 = 2 - 1"
   ]
  },
  {
   "cell_type": "code",
   "execution_count": 4,
   "metadata": {
    "collapsed": true
   },
   "outputs": [],
   "source": [
    "G = snap.LoadEdgeList(snap.PNGraph,fname,col1,col2)"
   ]
  },
  {
   "cell_type": "code",
   "execution_count": 5,
   "metadata": {
    "collapsed": false
   },
   "outputs": [
    {
     "name": "stdout",
     "output_type": "stream",
     "text": [
      "\n",
      "graph nodes 262, edges 27080\n"
     ]
    }
   ],
   "source": [
    "print \"\\ngraph nodes %d, edges %d\" % (G.GetNodes(), G.GetEdges())"
   ]
  },
  {
   "cell_type": "code",
   "execution_count": 6,
   "metadata": {
    "collapsed": false
   },
   "outputs": [
    {
     "name": "stdout",
     "output_type": "stream",
     "text": [
      "\n",
      "# of connected component sizes 1\n"
     ]
    }
   ],
   "source": [
    "WccV = snap.TIntPrV()\n",
    "snap.GetWccSzCnt(G, WccV)\n",
    "print \"\\n# of connected component sizes\", WccV.Len()"
   ]
  },
  {
   "cell_type": "code",
   "execution_count": 7,
   "metadata": {
    "collapsed": false
   },
   "outputs": [
    {
     "name": "stdout",
     "output_type": "stream",
     "text": [
      "\n",
      "# of connected component sizes 1\n",
      "size 262, number of components 1\n"
     ]
    }
   ],
   "source": [
    "print \"\\n# of connected component sizes\", WccV.Len()\n",
    "for comp in WccV:\n",
    "    print \"size %d, number of components %d\" % (comp.GetVal1(), comp.GetVal2())"
   ]
  },
  {
   "cell_type": "code",
   "execution_count": 8,
   "metadata": {
    "collapsed": false
   },
   "outputs": [
    {
     "name": "stdout",
     "output_type": "stream",
     "text": [
      "\n",
      "max wcc nodes 262, edges 27080\n"
     ]
    }
   ],
   "source": [
    "MxWcc = snap.GetMxWcc(G)\n",
    "print \"\\nmax wcc nodes %d, edges %d\" % (MxWcc.GetNodes(), MxWcc.GetEdges())"
   ]
  },
  {
   "cell_type": "code",
   "execution_count": 9,
   "metadata": {
    "collapsed": false
   },
   "outputs": [
    {
     "name": "stdout",
     "output_type": "stream",
     "text": [
      "\n",
      "# of different in-degrees 120\n"
     ]
    }
   ],
   "source": [
    "InDegCntV = snap.TIntPrV()\n",
    "snap.GetInDegCnt(G, InDegCntV)\n",
    "print \"\\n# of different in-degrees\", InDegCntV.Len()"
   ]
  },
  {
   "cell_type": "code",
   "execution_count": 10,
   "metadata": {
    "collapsed": false
   },
   "outputs": [
    {
     "data": {
      "text/plain": [
       "'\\nfor item in InDegCntV:\\n    print \"in-degree %d, number of nodes %d\" % (item.GetVal1(), item.GetVal2())\\n'"
      ]
     },
     "execution_count": 10,
     "metadata": {},
     "output_type": "execute_result"
    }
   ],
   "source": [
    "'''\n",
    "for item in InDegCntV:\n",
    "    print \"in-degree %d, number of nodes %d\" % (item.GetVal1(), item.GetVal2())\n",
    "'''"
   ]
  },
  {
   "cell_type": "code",
   "execution_count": 11,
   "metadata": {
    "collapsed": false
   },
   "outputs": [
    {
     "name": "stdout",
     "output_type": "stream",
     "text": [
      "\n",
      "# of different out-degrees 151\n"
     ]
    }
   ],
   "source": [
    "OutDegCntV = snap.TIntPrV()\n",
    "snap.GetOutDegCnt(G, OutDegCntV)\n",
    "print \"\\n# of different out-degrees\", OutDegCntV.Len()"
   ]
  },
  {
   "cell_type": "code",
   "execution_count": 12,
   "metadata": {
    "collapsed": false
   },
   "outputs": [
    {
     "data": {
      "text/plain": [
       "'\\nfor item in OutDegCntV:\\n    print \"out-degree %d, number of nodes %d\" % (item.GetVal1(), item.GetVal2())\\n'"
      ]
     },
     "execution_count": 12,
     "metadata": {},
     "output_type": "execute_result"
    }
   ],
   "source": [
    "'''\n",
    "for item in OutDegCntV:\n",
    "    print \"out-degree %d, number of nodes %d\" % (item.GetVal1(), item.GetVal2())\n",
    "'''"
   ]
  },
  {
   "cell_type": "markdown",
   "metadata": {},
   "source": [
    "### Get Page Rank"
   ]
  },
  {
   "cell_type": "code",
   "execution_count": 13,
   "metadata": {
    "collapsed": true
   },
   "outputs": [],
   "source": [
    "PRankH = snap.TIntFltH()\n",
    "snap.GetPageRank(G, PRankH)"
   ]
  },
  {
   "cell_type": "markdown",
   "metadata": {},
   "source": [
    "Hash table ...."
   ]
  },
  {
   "cell_type": "code",
   "execution_count": 31,
   "metadata": {
    "collapsed": false
   },
   "outputs": [
    {
     "data": {
      "text/plain": [
       "snap.TIntFltH"
      ]
     },
     "execution_count": 31,
     "metadata": {},
     "output_type": "execute_result"
    }
   ],
   "source": [
    "type(PRankH)"
   ]
  },
  {
   "cell_type": "code",
   "execution_count": 30,
   "metadata": {
    "collapsed": true
   },
   "outputs": [],
   "source": [
    "lPRank = sorted(PRankH, key = lambda key: PRankH[key], reverse = True)"
   ]
  },
  {
   "cell_type": "code",
   "execution_count": 32,
   "metadata": {
    "collapsed": false
   },
   "outputs": [
    {
     "name": "stdout",
     "output_type": "stream",
     "text": [
      "\n",
      "top 10 experts by PageRank\n",
      "id      44, pagerank 0.021227\n",
      "id     265, pagerank 0.014389\n",
      "id      27, pagerank 0.011263\n",
      "id     132, pagerank 0.010668\n",
      "id     264, pagerank 0.008206\n",
      "id     138, pagerank 0.006748\n",
      "id     170, pagerank 0.006588\n",
      "id     230, pagerank 0.005863\n",
      "id      75, pagerank 0.005809\n",
      "id      48, pagerank 0.005673\n"
     ]
    }
   ],
   "source": [
    "print \"\\ntop 10 experts by PageRank\"\n",
    "for item in lPRank[:10]:\n",
    "    print \"id %7s, pagerank %.6f\" % (item, PRankH[item]) "
   ]
  },
  {
   "cell_type": "code",
   "execution_count": 33,
   "metadata": {
    "collapsed": false
   },
   "outputs": [
    {
     "name": "stdout",
     "output_type": "stream",
     "text": [
      "264\n",
      "163\n",
      "143\n",
      "164\n",
      "229\n",
      "246\n",
      "107\n",
      "161\n",
      "162\n",
      "186\n",
      "226\n",
      "157\n",
      "148\n",
      "79\n",
      "114\n",
      "68\n",
      "140\n",
      "132\n",
      "234\n",
      "224\n",
      "230\n",
      "113\n",
      "36\n",
      "231\n",
      "13\n",
      "137\n",
      "138\n",
      "65\n",
      "223\n",
      "238\n",
      "189\n",
      "144\n",
      "255\n",
      "158\n",
      "48\n",
      "50\n",
      "237\n",
      "170\n",
      "18\n",
      "166\n",
      "14\n",
      "88\n",
      "141\n",
      "239\n",
      "232\n",
      "49\n",
      "142\n",
      "249\n",
      "100\n",
      "41\n",
      "87\n",
      "254\n",
      "136\n",
      "146\n",
      "7\n",
      "233\n",
      "261\n",
      "125\n",
      "243\n",
      "38\n",
      "74\n",
      "209\n",
      "25\n",
      "263\n",
      "42\n",
      "218\n",
      "43\n",
      "236\n",
      "258\n",
      "66\n",
      "198\n",
      "262\n",
      "80\n",
      "129\n",
      "4\n",
      "168\n",
      "90\n",
      "51\n",
      "45\n",
      "28\n",
      "133\n",
      "244\n",
      "116\n",
      "211\n",
      "33\n",
      "75\n",
      "151\n",
      "145\n",
      "97\n",
      "181\n",
      "112\n",
      "188\n",
      "76\n",
      "37\n",
      "54\n",
      "1\n",
      "24\n",
      "257\n",
      "216\n",
      "10\n",
      "265\n",
      "190\n",
      "62\n",
      "91\n",
      "196\n",
      "256\n",
      "228\n",
      "152\n",
      "40\n",
      "202\n",
      "17\n",
      "220\n",
      "241\n",
      "61\n",
      "127\n",
      "71\n",
      "225\n",
      "95\n",
      "208\n",
      "260\n",
      "89\n",
      "179\n",
      "52\n",
      "193\n",
      "82\n",
      "121\n",
      "242\n",
      "106\n",
      "194\n",
      "67\n",
      "98\n",
      "167\n",
      "3\n",
      "101\n",
      "185\n",
      "195\n",
      "227\n",
      "200\n",
      "22\n",
      "173\n",
      "213\n",
      "165\n",
      "39\n",
      "126\n",
      "259\n",
      "197\n",
      "77\n",
      "150\n",
      "201\n",
      "169\n",
      "47\n",
      "160\n",
      "235\n",
      "115\n",
      "108\n",
      "191\n",
      "147\n",
      "69\n",
      "12\n",
      "102\n",
      "247\n",
      "94\n",
      "219\n",
      "153\n",
      "124\n",
      "21\n",
      "16\n",
      "130\n",
      "56\n",
      "72\n",
      "180\n",
      "35\n",
      "9\n",
      "85\n",
      "155\n",
      "29\n",
      "217\n",
      "70\n",
      "183\n",
      "159\n",
      "92\n",
      "134\n",
      "178\n",
      "83\n",
      "123\n",
      "250\n",
      "135\n",
      "46\n",
      "26\n",
      "73\n",
      "248\n",
      "210\n",
      "84\n",
      "203\n",
      "128\n",
      "177\n",
      "182\n",
      "171\n",
      "55\n",
      "252\n",
      "119\n",
      "175\n",
      "6\n",
      "20\n",
      "215\n",
      "78\n",
      "187\n",
      "11\n",
      "15\n",
      "192\n",
      "32\n",
      "34\n",
      "131\n",
      "31\n",
      "93\n",
      "174\n",
      "149\n",
      "58\n",
      "251\n",
      "122\n",
      "139\n",
      "19\n",
      "63\n",
      "81\n",
      "64\n",
      "96\n",
      "172\n",
      "205\n",
      "86\n",
      "176\n",
      "44\n",
      "212\n",
      "57\n",
      "53\n",
      "118\n",
      "27\n",
      "245\n",
      "5\n",
      "60\n",
      "204\n",
      "221\n",
      "117\n",
      "23\n",
      "206\n",
      "240\n",
      "30\n",
      "120\n",
      "8\n",
      "111\n",
      "207\n",
      "222\n",
      "59\n",
      "184\n",
      "214\n",
      "156\n",
      "105\n",
      "253\n",
      "109\n",
      "154\n",
      "99\n",
      "2\n",
      "199\n"
     ]
    }
   ],
   "source": [
    "for item in PRankH:\n",
    "    print item"
   ]
  },
  {
   "cell_type": "code",
   "execution_count": 35,
   "metadata": {
    "collapsed": false
   },
   "outputs": [
    {
     "name": "stdout",
     "output_type": "stream",
     "text": [
      "<type 'list'>\n",
      "262\n"
     ]
    }
   ],
   "source": [
    "print type(lPRank)\n",
    "print len(lPRank)\n",
    "# print PRankH[]\n",
    "\n",
    "sortedPRkey = []\n",
    "sortedPR = []\n",
    "\n",
    "for item, val in enumerate(lPRank):\n",
    "    sortedPRkey.append(item) \n",
    "    sortedPR.append(PRankH[val]) "
   ]
  },
  {
   "cell_type": "code",
   "execution_count": 36,
   "metadata": {
    "collapsed": false
   },
   "outputs": [
    {
     "data": {
      "image/png": "[encoded data removed]",
      "text/plain": [
       "<matplotlib.figure.Figure at 0x115622710>"
      ]
     },
     "metadata": {},
     "output_type": "display_data"
    }
   ],
   "source": [
    "plt.gca().set_yscale('log')\n",
    "plt.plot(sortedPR, 'o')\n",
    "plt.show()"
   ]
  },
  {
   "cell_type": "markdown",
   "metadata": {},
   "source": [
    "Very few nodes appear prominent"
   ]
  },
  {
   "cell_type": "markdown",
   "metadata": {},
   "source": [
    "#### Hash properly"
   ]
  },
  {
   "cell_type": "code",
   "execution_count": null,
   "metadata": {
    "collapsed": true
   },
   "outputs": [],
   "source": []
  },
  {
   "cell_type": "code",
   "execution_count": 20,
   "metadata": {
    "collapsed": true
   },
   "outputs": [],
   "source": [
    "NIdHubH = snap.TIntFltH()\n",
    "NIdAuthH = snap.TIntFltH()\n",
    "snap.GetHits(G, NIdHubH, NIdAuthH)"
   ]
  },
  {
   "cell_type": "code",
   "execution_count": 18,
   "metadata": {
    "collapsed": false
   },
   "outputs": [
    {
     "name": "stdout",
     "output_type": "stream",
     "text": [
      "\n",
      "top 10 experts by Hits\n"
     ]
    }
   ],
   "source": [
    "lAuth = sorted(NIdAuthH, key = lambda key: NIdAuthH[key], reverse = True)\n",
    "print \"\\ntop 10 experts by Hits\""
   ]
  },
  {
   "cell_type": "code",
   "execution_count": 19,
   "metadata": {
    "collapsed": false
   },
   "outputs": [
    {
     "name": "stdout",
     "output_type": "stream",
     "text": [
      "id     132, authority rank 0.083657\n",
      "id     264, authority rank 0.082190\n",
      "id     265, authority rank 0.081600\n",
      "id     138, authority rank 0.080902\n",
      "id     230, authority rank 0.079899\n",
      "id      48, authority rank 0.079303\n",
      "id     161, authority rank 0.078768\n",
      "id     162, authority rank 0.078451\n",
      "id       7, authority rank 0.078450\n",
      "id     186, authority rank 0.078401\n"
     ]
    }
   ],
   "source": [
    "for item in lAuth[:10]:\n",
    "    print \"id %7s, authority rank %.6f\" % (item, NIdAuthH[item])"
   ]
  },
  {
   "cell_type": "code",
   "execution_count": 21,
   "metadata": {
    "collapsed": true
   },
   "outputs": [],
   "source": [
    "lHub = sorted(NIdHubH, key = lambda key: NIdHubH[key], reverse = True)"
   ]
  },
  {
   "cell_type": "code",
   "execution_count": 22,
   "metadata": {
    "collapsed": false
   },
   "outputs": [
    {
     "name": "stdout",
     "output_type": "stream",
     "text": [
      "id     132, hub rank 0.110319\n",
      "id     138, hub rank 0.110147\n",
      "id     170, hub rank 0.110117\n",
      "id      48, hub rank 0.109902\n",
      "id     162, hub rank 0.109768\n",
      "id     186, hub rank 0.109678\n",
      "id     100, hub rank 0.109566\n",
      "id      79, hub rank 0.109547\n",
      "id     230, hub rank 0.109448\n",
      "id     234, hub rank 0.109286\n"
     ]
    }
   ],
   "source": [
    "for item in lHub[:10]:\n",
    "    print \"id %7s, hub rank %.6f\" % (item, NIdHubH[item])"
   ]
  },
  {
   "cell_type": "code",
   "execution_count": 26,
   "metadata": {
    "collapsed": false
   },
   "outputs": [],
   "source": [
    "sortedAuthkey = []\n",
    "sortedAuth = []\n",
    "\n",
    "for item, val in enumerate(lAuth):\n",
    "    sortedAuthkey.append(item) \n",
    "    sortedAuth.append(NIdAuthH[val]) "
   ]
  },
  {
   "cell_type": "code",
   "execution_count": 27,
   "metadata": {
    "collapsed": false
   },
   "outputs": [
    {
     "data": {
      "image/png": "[encoded data removed]",
      "text/plain": [
       "<matplotlib.figure.Figure at 0x12202f690>"
      ]
     },
     "metadata": {},
     "output_type": "display_data"
    }
   ],
   "source": [
    "plt.gca().set_yscale('log')\n",
    "plt.plot(sortedAuth, 'o')\n",
    "plt.show()"
   ]
  },
  {
   "cell_type": "code",
   "execution_count": 28,
   "metadata": {
    "collapsed": false
   },
   "outputs": [],
   "source": [
    "sortedHubkey = []\n",
    "sortedHub = []\n",
    "\n",
    "for item, val in enumerate(lHub):\n",
    "    sortedHubkey.append(item) \n",
    "    sortedHub.append(NIdHubH[val]) "
   ]
  },
  {
   "cell_type": "code",
   "execution_count": 29,
   "metadata": {
    "collapsed": false
   },
   "outputs": [
    {
     "data": {
      "image/png": "[encoded data removed]",
      "text/plain": [
       "<matplotlib.figure.Figure at 0x123a4db10>"
      ]
     },
     "metadata": {},
     "output_type": "display_data"
    }
   ],
   "source": [
    "plt.gca().set_yscale('log')\n",
    "plt.plot(sortedHub, 'o')\n",
    "plt.show()"
   ]
  },
  {
   "cell_type": "markdown",
   "metadata": {},
   "source": [
    "### Degree Distribution "
   ]
  },
  {
   "cell_type": "code",
   "execution_count": 33,
   "metadata": {
    "collapsed": false
   },
   "outputs": [],
   "source": [
    "snap.PlotInDegDistr(G, \"yellow 2016\", \"yellow 2016 In Degree\")"
   ]
  },
  {
   "cell_type": "code",
   "execution_count": 34,
   "metadata": {
    "collapsed": false
   },
   "outputs": [],
   "source": [
    "yellowInD = pd.read_csv('inDeg.yellow 2016.tab', skiprows=3, sep='\\t')"
   ]
  },
  {
   "cell_type": "code",
   "execution_count": 35,
   "metadata": {
    "collapsed": false
   },
   "outputs": [
    {
     "data": {
      "text/html": [
       "<div>\n",
       "<table border=\"1\" class=\"dataframe\">\n",
       "  <thead>\n",
       "    <tr style=\"text-align: right;\">\n",
       "      <th></th>\n",
       "      <th># In-degree</th>\n",
       "      <th>Count</th>\n",
       "    </tr>\n",
       "  </thead>\n",
       "  <tbody>\n",
       "    <tr>\n",
       "      <th>count</th>\n",
       "      <td>120.000000</td>\n",
       "      <td>120.000000</td>\n",
       "    </tr>\n",
       "    <tr>\n",
       "      <th>mean</th>\n",
       "      <td>93.608333</td>\n",
       "      <td>2.183333</td>\n",
       "    </tr>\n",
       "    <tr>\n",
       "      <th>std</th>\n",
       "      <td>42.301498</td>\n",
       "      <td>1.506196</td>\n",
       "    </tr>\n",
       "    <tr>\n",
       "      <th>min</th>\n",
       "      <td>1.000000</td>\n",
       "      <td>1.000000</td>\n",
       "    </tr>\n",
       "    <tr>\n",
       "      <th>25%</th>\n",
       "      <td>59.750000</td>\n",
       "      <td>1.000000</td>\n",
       "    </tr>\n",
       "    <tr>\n",
       "      <th>50%</th>\n",
       "      <td>96.500000</td>\n",
       "      <td>2.000000</td>\n",
       "    </tr>\n",
       "    <tr>\n",
       "      <th>75%</th>\n",
       "      <td>126.250000</td>\n",
       "      <td>3.000000</td>\n",
       "    </tr>\n",
       "    <tr>\n",
       "      <th>max</th>\n",
       "      <td>206.000000</td>\n",
       "      <td>8.000000</td>\n",
       "    </tr>\n",
       "  </tbody>\n",
       "</table>\n",
       "</div>"
      ],
      "text/plain": [
       "       # In-degree       Count\n",
       "count   120.000000  120.000000\n",
       "mean     93.608333    2.183333\n",
       "std      42.301498    1.506196\n",
       "min       1.000000    1.000000\n",
       "25%      59.750000    1.000000\n",
       "50%      96.500000    2.000000\n",
       "75%     126.250000    3.000000\n",
       "max     206.000000    8.000000"
      ]
     },
     "execution_count": 35,
     "metadata": {},
     "output_type": "execute_result"
    }
   ],
   "source": [
    "yellowInD.describe()"
   ]
  },
  {
   "cell_type": "code",
   "execution_count": 39,
   "metadata": {
    "collapsed": false
   },
   "outputs": [
    {
     "data": {
      "image/png": "[encoded data removed]",
      "text/plain": [
       "<matplotlib.figure.Figure at 0x123a68510>"
      ]
     },
     "metadata": {},
     "output_type": "display_data"
    }
   ],
   "source": [
    "plt.figure(figsize=(8,4.95))\n",
    "plt.plot(yellowInD['# In-degree'], yellowInD['Count'], '-o')\n",
    "plt.show()"
   ]
  },
  {
   "cell_type": "code",
   "execution_count": null,
   "metadata": {
    "collapsed": true
   },
   "outputs": [],
   "source": []
  }
 ],
 "metadata": {
  "kernelspec": {
   "display_name": "Python 2",
   "language": "python",
   "name": "python2"
  },
  "language_info": {
   "codemirror_mode": {
    "name": "ipython",
    "version": 2
   },
   "file_extension": ".py",
   "mimetype": "text/x-python",
   "name": "python",
   "nbconvert_exporter": "python",
   "pygments_lexer": "ipython2",
   "version": "2.7.13"
  }
 },
 "nbformat": 4,
 "nbformat_minor": 2
}
